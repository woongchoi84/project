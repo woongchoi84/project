{
 "cells": [
  {
   "cell_type": "markdown",
   "metadata": {},
   "source": [
    "# **크롤링? 스크래핑?**"
   ]
  },
  {
   "cell_type": "markdown",
   "metadata": {},
   "source": [
    "> 웹페이지의 내용을 가져 오는 것을 크롤링(Crawling) 또는 스크래핑(Scraping)이라고 합니다."
   ]
  },
  {
   "cell_type": "markdown",
   "metadata": {},
   "source": [
    "## **robots.txt 파일이란 무엇인가요?**"
   ]
  },
  {
   "cell_type": "markdown",
   "metadata": {},
   "source": [
    "> robots.txt 파일은 검색엔진 크롤러에서 사이트에 요청할 수 있거나 요청할 수 없는 페이지 또는 파일을 크롤러에 지시하는 파일입니다. 이 파일은 요청으로 인해 사이트가 오버로드되지 않도록 하는 데 주로 사용되며, Google로부터 웹페이지를 숨기는 데 사용하는 메커니즘이 아닙니다. 웹페이지가 Google에 표시되지 않도록 하려면 noindex 명령어를 사용하거나 페이지를 비밀번호로 보호해야 합니다."
   ]
  },
  {
   "cell_type": "markdown",
   "metadata": {},
   "source": [
    "> https://support.google.com/webmasters/answer/6062608?hl=ko"
   ]
  },
  {
   "cell_type": "code",
   "execution_count": 7,
   "metadata": {},
   "outputs": [],
   "source": [
    "from selenium import webdriver\n",
    "driver = webdriver.Firefox(executable_path='/home/woong/project/utils/geckodriver');\n",
    "#driver = webdriver.Chrome(executable_path='/home/woong/wget/chromedriver')"
   ]
  },
  {
   "cell_type": "code",
   "execution_count": 8,
   "metadata": {},
   "outputs": [],
   "source": [
    "driver.get('http://www.idec.or.kr/edu/schedule/')"
   ]
  },
  {
   "cell_type": "code",
   "execution_count": 17,
   "metadata": {},
   "outputs": [
    {
     "name": "stdout",
     "output_type": "stream",
     "text": [
      "1월\n",
      "1.7\n",
      "1일\n",
      "설계강좌\n",
      "최신 모바일 AP의CPU/GPU/특수가속기 구조 이해\n",
      "박영준 교수\n",
      "한양대\n",
      "1.14\n",
      "1일\n",
      "설계강좌\n",
      "GPU 컴퓨팅 기술\n",
      "유민수 교수\n",
      "KAIST\n",
      "1.15\n",
      "1일\n",
      "설계강좌\n",
      "Biomedical IC 설계 개론\n",
      "이형민 교수\n",
      "고려대\n",
      "1.16\n",
      "1일\n",
      "설계강좌\n",
      "차세대 비휘발성 메모리 소자 기술\n",
      "이장식 교수\n",
      "포항공대\n",
      "2월\n",
      "2.12-13\n",
      "2일\n",
      "설계강좌\n",
      "아날로그 집적회로\n",
      "이정협 교수\n",
      "DGIST\n",
      "2.13-15\n",
      "3일\n",
      "설계강좌\n",
      "아날로그 증폭기의 저잡음 설계 기법\n",
      "고형호 교수\n",
      "충남대\n",
      "2.19\n",
      "1일\n",
      "설계강좌\n",
      "MATLAB/Simulink를 이용한 HDL 코드 생성 및 검증\n",
      "정승혁 과장\n",
      "Mathworks\n",
      "3월\n",
      "3.15\n",
      "1일\n",
      "설계강좌\n",
      "메모리 중심 뉴로모픽 / 뉴럴 네트워크 하드웨어 설계\n",
      "김재준 교수\n",
      "포항공대\n",
      "4월\n",
      "5월\n",
      "5.23\n",
      "1일\n",
      "세미나\n",
      "반도체 산업의 이해 및 미래 기술 동향\n",
      "권건태 상무\n",
      "베라 세미콘\n",
      "6월\n",
      "6.10-12\n",
      "3일\n",
      "설계강좌\n",
      "고성능 병렬 컴퓨팅을 위한 GPGPU (CUDA) 프로그래밍\n",
      "강형주 교수\n",
      "한국기술교육대\n",
      "6.13-14\n",
      "2일\n",
      "설계강좌\n",
      "딥러닝 GPGPU구조 및 설계\n",
      "노원우 교수,\n",
      "이광엽 교수\n",
      "연세대,\n",
      "서경대\n",
      "7월\n",
      "7.8-9\n",
      "2일\n",
      "Tool강좌\n",
      "C/C++알고리즘 디자인으로부터 Verilog RTL을 구현/생성할 수 있는 Mentor Catapult High Level Synthesis 교육\n",
      "이준석 과장\n",
      "한국멘토그래픽스\n",
      "7.10-12\n",
      "3일\n",
      "설계강좌\n",
      "임베디드 SoC 설계 및 최적화\n",
      "이영주 교수\n",
      "포항공대\n",
      "7.19\n",
      "1일\n",
      "설계강좌\n",
      "바이오 이식 기기의 무선 인터페이스 연구 동향\n",
      "김상혁 교수\n",
      "경희대\n",
      "8월\n",
      "8.20-21\n",
      "2일\n",
      "설계강좌\n",
      "Designing ALTERA SoC FPGA with Qsys & DS-5\n",
      "이재철 부장\n",
      "엑시오스㈜\n",
      "9월\n",
      "10월\n",
      "11월\n",
      "11.12-13\n",
      "2일\n",
      "설계강좌\n",
      "Developing SW for Embedded Processor\n",
      "이재철 부장\n",
      "엑시오스㈜\n",
      "11.27-29\n",
      "3일\n",
      "설계강좌\n",
      "[IDEC 연구원 강좌] S28 공정용 디지털 cell based flow\n",
      "선혜승 연구원\n",
      "IDEC\n",
      "12월\n",
      "미정\n",
      "3일\n",
      "설계강좌\n",
      "Pspice & Matlab을 이용한 System Control Simulation\n",
      "김성훈 박사,\n",
      "정승혁 과장\n",
      "매스웍스코리아\n"
     ]
    }
   ],
   "source": [
    "names  = driver.find_elements_by_xpath(\"//td[@*]\")\n",
    "for term in names[1:]:\n",
    "    print(term.text)"
   ]
  },
  {
   "cell_type": "code",
   "execution_count": null,
   "metadata": {},
   "outputs": [],
   "source": []
  }
 ],
 "metadata": {
  "kernelspec": {
   "display_name": "Python 3",
   "language": "python",
   "name": "python3"
  },
  "language_info": {
   "codemirror_mode": {
    "name": "ipython",
    "version": 3
   },
   "file_extension": ".py",
   "mimetype": "text/x-python",
   "name": "python",
   "nbconvert_exporter": "python",
   "pygments_lexer": "ipython3",
   "version": "3.6.8"
  }
 },
 "nbformat": 4,
 "nbformat_minor": 4
}
