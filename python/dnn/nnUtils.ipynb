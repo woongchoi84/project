{
 "cells": [
  {
   "cell_type": "markdown",
   "metadata": {},
   "source": [
    "# **Python Embedded Modules**"
   ]
  },
  {
   "cell_type": "code",
   "execution_count": 1,
   "metadata": {},
   "outputs": [],
   "source": [
    "import os, sys, time, random, glob, re, math, itertools, collections, csv, socket, requests, urllib\n",
    "from time import strftime\n",
    "import numpy as np\n",
    "import matplotlib.pyplot as plt\n",
    "import tensorflow as tf"
   ]
  },
  {
   "cell_type": "code",
   "execution_count": 2,
   "metadata": {},
   "outputs": [],
   "source": [
    "def getURLFile(url, saveDir, barLength = 20):\n",
    "    os.system('mkdir -p %s'%(saveDir))\n",
    "    r = requests.get(url, stream=True)\n",
    "    urlFileByte = int(r.headers.get('content-length'))\t# Total File Size (Byte)\n",
    "    urlFileName = url.split('/')[-1]\tabsFileName = saveDir + '/' + urlFileName\n",
    "    if not os.path.exists(absFileName):\n",
    "        with open(absFileName, 'wb') as f:\n",
    "            if urlFileByte is None:\n",
    "                f.write(r.content)\n",
    "                print('%s is empty file'%(urlFileName))\n",
    "            else:\n",
    "                downByte = 0\n",
    "                for kByte in r.iter_content(1024):\n",
    "                    f.write(kByte)\n",
    "                    downByte += len(kByte)\n",
    "                    percent = 100 * downByte / urlFileByte\n",
    "                    filledLength = int(round(barLength * downByte / urlFileByte))\n",
    "                    bar = '#' *\tfilledLength  + ' ' * (barLength - filledLength)\n",
    "                    sys.stdout.write(\"\\r%30s: |%s| %3.1f%%\"%(urlFileName, bar, percent ))\n",
    "            sys.stdout.write('\\n')"
   ]
  },
  {
   "cell_type": "code",
   "execution_count": null,
   "metadata": {},
   "outputs": [],
   "source": []
  }
 ],
 "metadata": {
  "kernelspec": {
   "display_name": "Python 3",
   "language": "python",
   "name": "python3"
  },
  "language_info": {
   "codemirror_mode": {
    "name": "ipython",
    "version": 3
   },
   "file_extension": ".py",
   "mimetype": "text/x-python",
   "name": "python",
   "nbconvert_exporter": "python",
   "pygments_lexer": "ipython3",
   "version": "3.6.8"
  }
 },
 "nbformat": 4,
 "nbformat_minor": 4
}
