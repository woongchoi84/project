{
 "cells": [
  {
   "cell_type": "markdown",
   "metadata": {},
   "source": [
    "# 붓꽃의 품종 분류"
   ]
  },
  {
   "cell_type": "code",
   "execution_count": 1,
   "metadata": {},
   "outputs": [
    {
     "name": "stdout",
     "output_type": "stream",
     "text": [
      "텐서플로 버전: 2.0.0\n",
      "즉시 실행: True\n"
     ]
    }
   ],
   "source": [
    "import os\n",
    "import tensorflow as tf\n",
    "import numpy as np\n",
    "import pandas as pd\n",
    "import matplotlib.pyplot as plt\n",
    "print(\"텐서플로 버전: {}\".format(tf.__version__))\n",
    "print(\"즉시 실행: {}\".format(tf.executing_eagerly()))\n",
    "np.set_printoptions(precision=3, linewidth=500)"
   ]
  },
  {
   "cell_type": "markdown",
   "metadata": {},
   "source": [
    "## 측정된 꽃받침과 꽃잎의 길이와 폭을 토대로 붓꽃을 분류하는 모델을 통해 경사하강법(GD) 학습\n",
    "* Iris setosa\n",
    "* Iris virginica\n",
    "* Iris versicolor"
   ]
  },
  {
   "cell_type": "markdown",
   "metadata": {},
   "source": [
    "![꽃](https://www.tensorflow.org/images/iris_three_species.jpg)"
   ]
  },
  {
   "cell_type": "markdown",
   "metadata": {},
   "source": [
    "## 데이터 (CSV)"
   ]
  },
  {
   "cell_type": "code",
   "execution_count": 2,
   "metadata": {},
   "outputs": [
    {
     "name": "stdout",
     "output_type": "stream",
     "text": [
      "데이터셋이 복사된 위치: /home/woong/.keras/datasets/iris_training.csv\n",
      "120,4,setosa,versicolor,virginica\n",
      "6.4,2.8,5.6,2.2,2\n",
      "5.0,2.3,3.3,1.0,1\n",
      "4.9,2.5,4.5,1.7,2\n",
      "4.9,3.1,1.5,0.1,0\n",
      "30,4,setosa,versicolor,virginica\n",
      "5.9,3.0,4.2,1.5,1\n",
      "6.9,3.1,5.4,2.1,2\n",
      "5.1,3.3,1.7,0.5,0\n",
      "6.0,3.4,4.5,1.6,1\n"
     ]
    }
   ],
   "source": [
    "train_dataset_url = \"https://storage.googleapis.com/download.tensorflow.org/data/iris_training.csv\"\n",
    "test__dataset_url = \"https://storage.googleapis.com/download.tensorflow.org/data/iris_test.csv\"\n",
    "\n",
    "train_dataset_fp = tf.keras.utils.get_file(fname=os.path.basename(train_dataset_url), origin=train_dataset_url)\n",
    "test__dataset_fp = tf.keras.utils.get_file(fname=os.path.basename(test__dataset_url), origin=test__dataset_url)\n",
    "\n",
    "print(\"데이터셋이 복사된 위치: {}\".format(train_dataset_fp))\n",
    "!head -n5 {train_dataset_fp}\n",
    "!head -n5 {test__dataset_fp}"
   ]
  },
  {
   "cell_type": "code",
   "execution_count": 3,
   "metadata": {},
   "outputs": [
    {
     "name": "stdout",
     "output_type": "stream",
     "text": [
      "특성: ['sepal_length', 'sepal_width', 'petal_length', 'petal_width']\n",
      "레이블: species\n"
     ]
    }
   ],
   "source": [
    "# column_name = ['꽃잎 길이', '꽃잎 너비', '꽃받침 길이', '꽃받침 너비', '종']\n",
    "column_names = ['sepal_length', 'sepal_width', 'petal_length', 'petal_width', 'species']\n",
    "\n",
    "# species = 0: Iris setosa, 1: Iris versicolor, 2: Iris virginica\n",
    "class_names = ['Iris setosa', 'Iris versicolor', 'Iris virginica']\n",
    "\n",
    "feature_names = column_names[:-1]\n",
    "label_name = column_names[-1]\n",
    "\n",
    "print(\"특성: {}\".format(feature_names))\n",
    "print(\"레이블: {}\".format(label_name))"
   ]
  },
  {
   "cell_type": "code",
   "execution_count": 4,
   "metadata": {},
   "outputs": [
    {
     "name": "stdout",
     "output_type": "stream",
     "text": [
      "WARNING:tensorflow:From /usr/local/lib/python3.6/dist-packages/tensorflow_core/python/data/experimental/ops/readers.py:521: parallel_interleave (from tensorflow.python.data.experimental.ops.interleave_ops) is deprecated and will be removed in a future version.\n",
      "Instructions for updating:\n",
      "Use `tf.data.Dataset.interleave(map_func, cycle_length, block_length, num_parallel_calls=tf.data.experimental.AUTOTUNE)` instead. If sloppy execution is desired, use `tf.data.Options.experimental_determinstic`.\n"
     ]
    }
   ],
   "source": [
    "batch_size = 32\n",
    "train_dataset = tf.data.experimental.make_csv_dataset(\n",
    "    train_dataset_fp,\n",
    "    batch_size,\n",
    "    column_names=column_names,\n",
    "    label_name=label_name,\n",
    "    shuffle=False,\n",
    "    num_epochs=1)"
   ]
  },
  {
   "cell_type": "code",
   "execution_count": 5,
   "metadata": {},
   "outputs": [
    {
     "data": {
      "image/png": "[encoded data removed]",
      "text/plain": [
       "<Figure size 432x288 with 1 Axes>"
      ]
     },
     "metadata": {
      "needs_background": "light"
     },
     "output_type": "display_data"
    }
   ],
   "source": [
    "features, labels = next(iter(train_dataset))\n",
    "plt.scatter(features['petal_length'], features['sepal_length'], c=labels, cmap='viridis')\n",
    "plt.xlabel(\"Petal length\")\n",
    "plt.ylabel(\"Sepal length\")\n",
    "plt.show()"
   ]
  },
  {
   "cell_type": "code",
   "execution_count": 6,
   "metadata": {},
   "outputs": [],
   "source": [
    "def pack_features_vector(features, labels):\n",
    "  \"\"\"특성들을 단일 배열로 묶습니다.\"\"\"\n",
    "# tf.stack: Stacks a list of rank-R tensors into one rank-(R+1) tensor.\n",
    "  features = tf.stack(list(features.values()), axis=1)\n",
    "  return features, labels"
   ]
  },
  {
   "cell_type": "code",
   "execution_count": 7,
   "metadata": {},
   "outputs": [],
   "source": [
    "train_dataset = train_dataset.map(pack_features_vector)"
   ]
  },
  {
   "cell_type": "code",
   "execution_count": 8,
   "metadata": {},
   "outputs": [
    {
     "data": {
      "text/plain": [
       "<MapDataset shapes: ((None, 4), (None,)), types: (tf.float32, tf.int32)>"
      ]
     },
     "execution_count": 8,
     "metadata": {},
     "output_type": "execute_result"
    }
   ],
   "source": [
    "train_dataset"
   ]
  },
  {
   "cell_type": "code",
   "execution_count": 9,
   "metadata": {},
   "outputs": [
    {
     "name": "stdout",
     "output_type": "stream",
     "text": [
      "tf.Tensor(\n",
      "[[6.4 2.8 5.6 2.2]\n",
      " [5.  2.3 3.3 1. ]\n",
      " [4.9 2.5 4.5 1.7]\n",
      " [4.9 3.1 1.5 0.1]\n",
      " [5.7 3.8 1.7 0.3]], shape=(5, 4), dtype=float32) tf.Tensor([2 1 2 0 0], shape=(5,), dtype=int32)\n"
     ]
    }
   ],
   "source": [
    "features, labels = next(iter(train_dataset))\n",
    "print(features[:5], labels[:5])"
   ]
  },
  {
   "cell_type": "markdown",
   "metadata": {},
   "source": [
    "## 데이터 (pandas)"
   ]
  },
  {
   "cell_type": "code",
   "execution_count": 10,
   "metadata": {},
   "outputs": [
    {
     "data": {
      "text/html": [
       "<div>\n",
       "<style scoped>\n",
       "    .dataframe tbody tr th:only-of-type {\n",
       "        vertical-align: middle;\n",
       "    }\n",
       "\n",
       "    .dataframe tbody tr th {\n",
       "        vertical-align: top;\n",
       "    }\n",
       "\n",
       "    .dataframe thead th {\n",
       "        text-align: right;\n",
       "    }\n",
       "</style>\n",
       "<table border=\"1\" class=\"dataframe\">\n",
       "  <thead>\n",
       "    <tr style=\"text-align: right;\">\n",
       "      <th></th>\n",
       "      <th>sepal_length</th>\n",
       "      <th>sepal_width</th>\n",
       "      <th>petal_length</th>\n",
       "      <th>petal_width</th>\n",
       "    </tr>\n",
       "  </thead>\n",
       "  <tbody>\n",
       "    <tr>\n",
       "      <td>0</td>\n",
       "      <td>6.4</td>\n",
       "      <td>2.8</td>\n",
       "      <td>5.6</td>\n",
       "      <td>2.2</td>\n",
       "    </tr>\n",
       "    <tr>\n",
       "      <td>1</td>\n",
       "      <td>5.0</td>\n",
       "      <td>2.3</td>\n",
       "      <td>3.3</td>\n",
       "      <td>1.0</td>\n",
       "    </tr>\n",
       "    <tr>\n",
       "      <td>2</td>\n",
       "      <td>4.9</td>\n",
       "      <td>2.5</td>\n",
       "      <td>4.5</td>\n",
       "      <td>1.7</td>\n",
       "    </tr>\n",
       "    <tr>\n",
       "      <td>3</td>\n",
       "      <td>4.9</td>\n",
       "      <td>3.1</td>\n",
       "      <td>1.5</td>\n",
       "      <td>0.1</td>\n",
       "    </tr>\n",
       "    <tr>\n",
       "      <td>4</td>\n",
       "      <td>5.7</td>\n",
       "      <td>3.8</td>\n",
       "      <td>1.7</td>\n",
       "      <td>0.3</td>\n",
       "    </tr>\n",
       "  </tbody>\n",
       "</table>\n",
       "</div>"
      ],
      "text/plain": [
       "   sepal_length  sepal_width  petal_length  petal_width\n",
       "0           6.4          2.8           5.6          2.2\n",
       "1           5.0          2.3           3.3          1.0\n",
       "2           4.9          2.5           4.5          1.7\n",
       "3           4.9          3.1           1.5          0.1\n",
       "4           5.7          3.8           1.7          0.3"
      ]
     },
     "execution_count": 10,
     "metadata": {},
     "output_type": "execute_result"
    }
   ],
   "source": [
    "# pandas.read_csv : Read a comma-separated values (csv) file into DataFrame.\n",
    "pdFeature = pd.read_csv(train_dataset_fp, sep=',', skiprows=1, names=['sepal_length', 'sepal_width', 'petal_length', 'petal_width', 'species'])\n",
    "\n",
    "# pandas.DataFrame.pop : Return item and drop from frame. Raise KeyError if not found.\n",
    "pdLabel = pdFeature.pop('species')\n",
    "\n",
    "# pandas.DataFrame.head : Return the first n rows.\n",
    "pdFeature.head(5)"
   ]
  },
  {
   "cell_type": "code",
   "execution_count": 11,
   "metadata": {},
   "outputs": [
    {
     "data": {
      "text/plain": [
       "(120, 4)"
      ]
     },
     "execution_count": 11,
     "metadata": {},
     "output_type": "execute_result"
    }
   ],
   "source": [
    "# tf.data.Dataset.from_tensor_slices: Creates a Dataset whose elements are slices of the given tensors..\n",
    "pdDataset = tf.data.Dataset.from_tensor_slices((pdFeature.values, pdLabel.values))\n",
    "pdFeature.values.shape"
   ]
  },
  {
   "cell_type": "code",
   "execution_count": 12,
   "metadata": {},
   "outputs": [
    {
     "name": "stdout",
     "output_type": "stream",
     "text": [
      "Row: 0, Features: [6.4 2.8 5.6 2.2], Species: 2\n",
      "Row: 1, Features: [5.  2.3 3.3 1. ], Species: 1\n",
      "Row: 2, Features: [4.9 2.5 4.5 1.7], Species: 2\n",
      "Row: 3, Features: [4.9 3.1 1.5 0.1], Species: 0\n",
      "Row: 4, Features: [5.7 3.8 1.7 0.3], Species: 0\n"
     ]
    }
   ],
   "source": [
    "for row, data in enumerate(pdDataset.take(5)):\n",
    "    print ('Row: {}, Features: {}, Species: {}'.format(row, data[0], data[1]))"
   ]
  },
  {
   "cell_type": "markdown",
   "metadata": {},
   "source": [
    "## 모델"
   ]
  },
  {
   "cell_type": "markdown",
   "metadata": {},
   "source": [
    "![](https://www.tensorflow.org/images/custom_estimators/full_network.png)"
   ]
  },
  {
   "cell_type": "code",
   "execution_count": 13,
   "metadata": {},
   "outputs": [
    {
     "name": "stdout",
     "output_type": "stream",
     "text": [
      "Model: \"sequential\"\n",
      "_________________________________________________________________\n",
      "Layer (type)                 Output Shape              Param #   \n",
      "=================================================================\n",
      "dense (Dense)                (None, 10)                50        \n",
      "_________________________________________________________________\n",
      "dense_1 (Dense)              (None, 10)                110       \n",
      "_________________________________________________________________\n",
      "dense_2 (Dense)              (None, 3)                 33        \n",
      "=================================================================\n",
      "Total params: 193\n",
      "Trainable params: 193\n",
      "Non-trainable params: 0\n",
      "_________________________________________________________________\n"
     ]
    }
   ],
   "source": [
    "# tf.keras.Sequential: Linear stack of layers.\n",
    "# Please check the configuration of each layer (press 'Shift+Tab' in xx.Dense(here!))\n",
    "model = tf.keras.Sequential([\n",
    "  tf.keras.layers.Dense(10, activation=tf.nn.relu, input_shape=(4,)),  # Weight:  4-inputs * 10-dense =  40,  Bias: 10, Total:  50\n",
    "  tf.keras.layers.Dense(10, activation=tf.nn.relu),                    # Weight: 10-inputs * 10-dense = 100,  Bias: 10, Total: 110\n",
    "  tf.keras.layers.Dense(3)                                             # Weight: 10-inputs *  3-dense =  30,  Bias:  3, Total:  33\n",
    "])\n",
    "model.summary()\n",
    "#help(model)"
   ]
  },
  {
   "cell_type": "markdown",
   "metadata": {},
   "source": [
    "## 훈련 (Training) 전 모델 사용"
   ]
  },
  {
   "cell_type": "code",
   "execution_count": 14,
   "metadata": {},
   "outputs": [
    {
     "name": "stdout",
     "output_type": "stream",
     "text": [
      "Input Shape: (32, 4)\n",
      "Layer 0: Weight(4, 10) Bias(10,) Activation(None, 10)\n",
      "Layer 1: Weight(10, 10) Bias(10,) Activation(None, 10)\n",
      "Layer 2: Weight(10, 3) Bias(3,) Activation(None, 3)\n"
     ]
    }
   ],
   "source": [
    "print('Input Shape: {}'.format(features.shape))\n",
    "for i in range(len(model.layers)):\n",
    "    print('Layer {}: Weight{} Bias{} Activation{}'.format(i, model.layers[i].weights[0].shape, model.layers[i].bias.shape, model.layers[i].output.shape))"
   ]
  },
  {
   "cell_type": "code",
   "execution_count": 15,
   "metadata": {},
   "outputs": [
    {
     "name": "stdout",
     "output_type": "stream",
     "text": [
      ">> 1st Features:\n",
      " [6.4 2.8 5.6 2.2]\n",
      "\n",
      ">> Weights (Input-Layer1):\n",
      " [[-0.359  0.159 -0.212 -0.308  0.273  0.652 -0.312  0.575 -0.099  0.264]\n",
      " [-0.519 -0.519 -0.603 -0.115 -0.391  0.298  0.144 -0.516  0.426  0.63 ]\n",
      " [-0.284  0.411 -0.38  -0.337  0.228  0.001 -0.459  0.244  0.241 -0.042]\n",
      " [-0.4    0.602  0.313 -0.018 -0.544  0.11   0.289 -0.571  0.511  0.523]]\n",
      "\n",
      ">> Biases   (Input-Layer1):\n",
      " [0. 0. 0. 0. 0. 0. 0. 0. 0. 0.]\n",
      "\n",
      ">> Layer1 MatMul[0,0]: -6.2255015\n",
      "\n",
      ">> Layer1 MatMul: \n",
      " [[-6.226  3.195 -4.48  -4.216  0.732  5.259 -3.526  2.343  3.032  4.367]\n",
      " [-4.329  1.562 -3.385 -2.932  0.674  4.062 -2.454  1.921  1.791  3.151]\n",
      " [-5.018  2.358 -3.721 -3.341  0.461  4.135 -2.741  1.653  2.533  3.567]\n",
      " [-3.837 -0.152 -3.445 -2.371  0.413  4.134 -1.742  1.526  1.25   3.233]\n",
      " [-4.625 -0.185 -4.05  -2.769  0.295  4.887 -1.925  1.559  1.619  3.981]]\n",
      "\n"
     ]
    }
   ],
   "source": [
    "print('>> 1st Features:\\n %s\\n'%(features[0].numpy()))\n",
    "print('>> Weights (Input-Layer1):\\n %s\\n'%(model.layers[0].weights[0].numpy()))\n",
    "print('>> Biases   (Input-Layer1):\\n %s\\n'%(model.layers[0].bias.numpy()))\n",
    "print('>> Layer1 MatMul[0,0]: %s\\n'%(np.sum(features[0]*model.layers[0].weights[0][:,0])))\n",
    "print('>> Layer1 MatMul: \\n %s\\n'%(tf.matmul(features, model.layers[0].weights[0]).numpy()[:5]))\n",
    "\n",
    "actLayer0 = tf.nn.relu(tf.matmul(features,  model.layers[0].weights[0]) + tf.ones([batch_size, 1]) * model.layers[0].bias)\n",
    "actLayer1 = tf.nn.relu(tf.matmul(actLayer0, model.layers[1].weights[0]) + tf.ones([batch_size, 1]) * model.layers[1].bias)\n",
    "actLayer2 =            tf.matmul(actLayer1, model.layers[2].weights[0]) + tf.ones([batch_size, 1]) * model.layers[2].bias"
   ]
  },
  {
   "cell_type": "code",
   "execution_count": 16,
   "metadata": {},
   "outputs": [
    {
     "data": {
      "text/plain": [
       "<tf.Tensor: id=287, shape=(5, 3), dtype=float32, numpy=\n",
       "array([[-3.261, -2.598,  4.177],\n",
       "       [-2.338, -1.529,  2.879],\n",
       "       [-2.691, -1.997,  3.276],\n",
       "       [-2.709, -0.923,  2.177],\n",
       "       [-3.243, -1.104,  2.651]], dtype=float32)>"
      ]
     },
     "execution_count": 16,
     "metadata": {},
     "output_type": "execute_result"
    }
   ],
   "source": [
    "predictions = model(features)\n",
    "predictions[:5]"
   ]
  },
  {
   "cell_type": "code",
   "execution_count": 17,
   "metadata": {},
   "outputs": [
    {
     "data": {
      "text/plain": [
       "<tf.Tensor: id=291, shape=(5, 3), dtype=float32, numpy=\n",
       "array([[-3.261, -2.598,  4.177],\n",
       "       [-2.338, -1.529,  2.879],\n",
       "       [-2.691, -1.997,  3.276],\n",
       "       [-2.709, -0.923,  2.177],\n",
       "       [-3.243, -1.104,  2.651]], dtype=float32)>"
      ]
     },
     "execution_count": 17,
     "metadata": {},
     "output_type": "execute_result"
    }
   ],
   "source": [
    "actLayer2[:5]"
   ]
  },
  {
   "cell_type": "code",
   "execution_count": 18,
   "metadata": {},
   "outputs": [
    {
     "data": {
      "text/plain": [
       "<tf.Tensor: id=305, shape=(5, 10), dtype=float32, numpy=\n",
       "array([[6.009, 0.   , 0.594, 0.   , 0.945, 0.   , 0.   , 0.   , 3.527, 0.   ],\n",
       "       [3.955, 0.   , 0.429, 0.   , 0.511, 0.02 , 0.   , 0.   , 2.844, 0.   ],\n",
       "       [4.755, 0.   , 0.37 , 0.   , 0.678, 0.   , 0.042, 0.   , 2.947, 0.   ],\n",
       "       [3.086, 0.   , 0.226, 0.   , 0.121, 0.627, 0.   , 0.   , 3.44 , 0.   ],\n",
       "       [3.741, 0.   , 0.21 , 0.   , 0.145, 0.643, 0.   , 0.   , 4.197, 0.   ]], dtype=float32)>"
      ]
     },
     "execution_count": 18,
     "metadata": {},
     "output_type": "execute_result"
    }
   ],
   "source": [
    "model.layers[1](model.layers[0](features))[:5]"
   ]
  },
  {
   "cell_type": "code",
   "execution_count": 19,
   "metadata": {},
   "outputs": [
    {
     "data": {
      "text/plain": [
       "<tf.Tensor: id=309, shape=(5, 10), dtype=float32, numpy=\n",
       "array([[6.009, 0.   , 0.594, 0.   , 0.945, 0.   , 0.   , 0.   , 3.527, 0.   ],\n",
       "       [3.955, 0.   , 0.429, 0.   , 0.511, 0.02 , 0.   , 0.   , 2.844, 0.   ],\n",
       "       [4.755, 0.   , 0.37 , 0.   , 0.678, 0.   , 0.042, 0.   , 2.947, 0.   ],\n",
       "       [3.086, 0.   , 0.226, 0.   , 0.121, 0.627, 0.   , 0.   , 3.44 , 0.   ],\n",
       "       [3.741, 0.   , 0.21 , 0.   , 0.145, 0.643, 0.   , 0.   , 4.197, 0.   ]], dtype=float32)>"
      ]
     },
     "execution_count": 19,
     "metadata": {},
     "output_type": "execute_result"
    }
   ],
   "source": [
    "actLayer1[:5]"
   ]
  },
  {
   "cell_type": "markdown",
   "metadata": {},
   "source": [
    "## Softmax 적용 (로짓(logit)을 각 클래스에 대한 확률로 변환)\n",
    "![](https://wikimedia.org/api/rest_v1/media/math/render/svg/bdc1f8eaa8064d15893f1ba6426f20ff8e7149c5)"
   ]
  },
  {
   "cell_type": "code",
   "execution_count": 20,
   "metadata": {},
   "outputs": [
    {
     "name": "stdout",
     "output_type": "stream",
     "text": [
      "Index: 0, Prob. per Class: [5.872e-04 1.140e-03 9.983e-01]\n",
      "Index: 1, Prob. per Class: [0.005 0.012 0.983]\n",
      "Index: 2, Prob. per Class: [0.003 0.005 0.992]\n",
      "Index: 3, Prob. per Class: [0.007 0.043 0.95 ]\n",
      "Index: 4, Prob. per Class: [0.003 0.023 0.975]\n"
     ]
    }
   ],
   "source": [
    "# Using Numpy\n",
    "for idx, logitRow in enumerate(predictions[:5]):\n",
    "    print('Index: {}, Prob. per Class: {}'.format(idx, np.exp(logitRow)/np.sum(np.exp(logitRow))))"
   ]
  },
  {
   "cell_type": "code",
   "execution_count": 21,
   "metadata": {},
   "outputs": [
    {
     "data": {
      "text/plain": [
       "<tf.Tensor: id=338, shape=(5, 3), dtype=float32, numpy=\n",
       "array([[5.872e-04, 1.140e-03, 9.983e-01],\n",
       "       [5.330e-03, 1.197e-02, 9.827e-01],\n",
       "       [2.542e-03, 5.089e-03, 9.924e-01],\n",
       "       [7.171e-03, 4.278e-02, 9.501e-01],\n",
       "       [2.684e-03, 2.280e-02, 9.745e-01]], dtype=float32)>"
      ]
     },
     "execution_count": 21,
     "metadata": {},
     "output_type": "execute_result"
    }
   ],
   "source": [
    "# Using TensorFlow\n",
    "tf.nn.softmax(predictions[:5])"
   ]
  },
  {
   "cell_type": "code",
   "execution_count": 22,
   "metadata": {},
   "outputs": [
    {
     "name": "stdout",
     "output_type": "stream",
     "text": [
      "  예측: [2 2 2 2 2 2 2 2 2 2 2 2 2 2 2 2 2 2 2 2 2 2 2 2 2 2 2 2 2 2 2 2]\n",
      "레이블: [2 1 2 0 0 0 0 2 1 0 1 1 0 0 2 1 2 2 2 0 2 2 0 2 2 0 1 2 1 1 1 1]\n"
     ]
    }
   ],
   "source": [
    "print(\"  예측: {}\".format(tf.argmax(predictions, axis=1)))\n",
    "print(\"레이블: {}\".format(labels))"
   ]
  },
  {
   "cell_type": "markdown",
   "metadata": {},
   "source": [
    "## 모델 훈련하기"
   ]
  },
  {
   "cell_type": "markdown",
   "metadata": {},
   "source": [
    "### 손실함수 (Loss Function)"
   ]
  },
  {
   "cell_type": "markdown",
   "metadata": {},
   "source": [
    "#### 평균 제곱 오차 (Mean Squared Error, MSE) : Regression (회귀) 문제에 주로 사용\n",
    "![](https://wikimedia.org/api/rest_v1/media/math/render/svg/e258221518869aa1c6561bb75b99476c4734108e)"
   ]
  },
  {
   "cell_type": "markdown",
   "metadata": {},
   "source": [
    "#### 교차 엔트로피 오차 (Cross Entropy Error, CEE) : Classification (분류) 문제에 주로 사용"
   ]
  },
  {
   "cell_type": "markdown",
   "metadata": {},
   "source": [
    "![](https://wikimedia.org/api/rest_v1/media/math/render/svg/c6b895514e10a3ce88773852cba1cb1e248ed763)"
   ]
  },
  {
   "cell_type": "code",
   "execution_count": 23,
   "metadata": {},
   "outputs": [
    {
     "name": "stdout",
     "output_type": "stream",
     "text": [
      "3.4710102580284\n"
     ]
    }
   ],
   "source": [
    "# Cross Entropy Error Using Numpy\n",
    "cee = 0\n",
    "for idx, prob in enumerate(tf.nn.softmax(model(features))):\n",
    "    y  = labels[idx]\n",
    "    y_ = prob[y]\n",
    "    cee = cee - np.log(y_)/batch_size\n",
    "print(cee)"
   ]
  },
  {
   "cell_type": "code",
   "execution_count": 24,
   "metadata": {},
   "outputs": [
    {
     "name": "stdout",
     "output_type": "stream",
     "text": [
      "3.4710102\n"
     ]
    }
   ],
   "source": [
    "# tf.keras.losses.SparseCategoricalCrossentropy: Computes the crossentropy loss between the labels and predictions.\n",
    "lossCEE = tf.keras.losses.SparseCategoricalCrossentropy(from_logits=True)\n",
    "print(lossCEE(y_true=labels, y_pred=model(features)).numpy())\n",
    "def loss(model, x, y):\n",
    "  y_ = model(x)\n",
    "  return lossCEE(y_true=y, y_pred=y_)"
   ]
  },
  {
   "cell_type": "markdown",
   "metadata": {},
   "source": [
    "## 옵티마이저 생성"
   ]
  },
  {
   "cell_type": "markdown",
   "metadata": {},
   "source": [
    "![](https://cs231n.github.io/assets/nn3/opt1.gif)"
   ]
  },
  {
   "cell_type": "code",
   "execution_count": 25,
   "metadata": {},
   "outputs": [],
   "source": [
    "# tf.GradientTape: Record operations for automatic differentiation.\n",
    "def grad(model, inputs, targets):\n",
    "  with tf.GradientTape() as tape:\n",
    "    loss_value = loss(model, inputs, targets)\n",
    "  return loss_value, tape.gradient(loss_value, model.trainable_variables)\n",
    "\n",
    "# tf.keras.optimizers: Built-in optimizer classes.\n",
    "optimizer = tf.keras.optimizers.Adam(learning_rate=0.01)\n",
    "if optimizer.iterations.numpy() == 0:\n",
    "    m1 = 0\n",
    "    m2 = 0"
   ]
  },
  {
   "cell_type": "code",
   "execution_count": 26,
   "metadata": {},
   "outputs": [
    {
     "data": {
      "text/plain": [
       "[0]"
      ]
     },
     "execution_count": 26,
     "metadata": {},
     "output_type": "execute_result"
    }
   ],
   "source": [
    "optimizer.get_weights()"
   ]
  },
  {
   "cell_type": "code",
   "execution_count": 27,
   "metadata": {},
   "outputs": [
    {
     "name": "stdout",
     "output_type": "stream",
     "text": [
      "단계: 0, 초기 손실: 3.471010208129883\n",
      "단계: 1,     손실: 2.892078161239624\n",
      "\n",
      "[[-0.359  0.159 -0.212 -0.308  0.273  0.652 -0.312  0.575 -0.099  0.264]\n",
      " [-0.519 -0.519 -0.603 -0.115 -0.391  0.298  0.144 -0.516  0.426  0.63 ]\n",
      " [-0.284  0.411 -0.38  -0.337  0.228  0.001 -0.459  0.244  0.241 -0.042]\n",
      " [-0.4    0.602  0.313 -0.018 -0.544  0.11   0.289 -0.571  0.511  0.523]] \n",
      "\n",
      "\n",
      "[[-0.359  0.149 -0.212 -0.308  0.263  0.642 -0.312  0.585 -0.109  0.254]\n",
      " [-0.519 -0.529 -0.603 -0.115 -0.401  0.288  0.144 -0.506  0.416  0.62 ]\n",
      " [-0.284  0.401 -0.38  -0.337  0.218 -0.009 -0.459  0.254  0.231 -0.052]\n",
      " [-0.4    0.592  0.313 -0.018 -0.554  0.1    0.289 -0.561  0.501  0.513]]\n"
     ]
    }
   ],
   "source": [
    "loss_value, grads = grad(model, features, labels)\n",
    "\n",
    "print(\"단계: {}, 초기 손실: {}\".format(optimizer.iterations.numpy(), loss_value.numpy()))\n",
    "weights_pre  = model.layers[0].weights[0].numpy()\n",
    "\n",
    "optimizer.apply_gradients(zip(grads, model.trainable_variables))\n",
    "print(\"단계: {},     손실: {}\\n\".format(optimizer.iterations.numpy(), loss(model, features, labels).numpy()))\n",
    "weights_post = model.layers[0].weights[0].numpy()\n",
    "\n",
    "print(weights_pre,  '\\n\\n')\n",
    "print(weights_post)"
   ]
  },
  {
   "cell_type": "markdown",
   "metadata": {},
   "source": [
    "### Adam"
   ]
  },
  {
   "cell_type": "markdown",
   "metadata": {},
   "source": [
    "$$m_0 := 0 \\text{(Initialize initial 1st moment vector)}$$\n",
    "$$v_0 := 0 \\text{(Initialize initial 2nd moment vector)}$$\n",
    "$$t := 0 \\text{(Initialize timestep)}$$\n",
    "$$t := t + 1$$\n",
    "$$lr_t := \\text{learning\\_rate} * \\sqrt{1 - beta_2^t} / (1 - beta_1^t)$$\n",
    "$$m_t := beta_1 * m_{t-1} + (1 - beta_1) * g$$\n",
    "$$v_t := beta_2 * v_{t-1} + (1 - beta_2) * g * g$$\n",
    "$$variable := variable - lr_t * m_t / (\\sqrt{v_t} + \\epsilon)$$"
   ]
  },
  {
   "cell_type": "code",
   "execution_count": 28,
   "metadata": {},
   "outputs": [
    {
     "name": "stdout",
     "output_type": "stream",
     "text": [
      "1\n",
      "[[-0.359  0.159 -0.212 -0.308  0.273  0.652 -0.312  0.575 -0.099  0.264]\n",
      " [-0.519 -0.519 -0.603 -0.115 -0.391  0.298  0.144 -0.516  0.426  0.63 ]\n",
      " [-0.284  0.411 -0.38  -0.337  0.228  0.001 -0.459  0.244  0.241 -0.042]\n",
      " [-0.4    0.602  0.313 -0.018 -0.544  0.11   0.289 -0.571  0.511  0.523]]\n",
      "tf.Tensor(\n",
      "[[-0.359  0.149 -0.212 -0.308  0.263  0.642 -0.312  0.585 -0.109  0.254]\n",
      " [-0.519 -0.529 -0.603 -0.115 -0.401  0.288  0.144 -0.506  0.416  0.62 ]\n",
      " [-0.284  0.401 -0.38  -0.337  0.218 -0.009 -0.459  0.254  0.231 -0.052]\n",
      " [-0.4    0.592  0.313 -0.018 -0.554  0.1    0.289 -0.561  0.501  0.513]], shape=(4, 10), dtype=float32)\n",
      "[[-0.359  0.149 -0.212 -0.308  0.263  0.642 -0.312  0.585 -0.109  0.254]\n",
      " [-0.519 -0.529 -0.603 -0.115 -0.401  0.288  0.144 -0.506  0.416  0.62 ]\n",
      " [-0.284  0.401 -0.38  -0.337  0.218 -0.009 -0.459  0.254  0.231 -0.052]\n",
      " [-0.4    0.592  0.313 -0.018 -0.554  0.1    0.289 -0.561  0.501  0.513]]\n"
     ]
    }
   ],
   "source": [
    "if optimizer.iterations.numpy() != 0:\n",
    "    t   = optimizer.iterations.numpy()\n",
    "    print(t)\n",
    "    lr  = optimizer.learning_rate * tf.sqrt(1-(optimizer.beta_2 ** t)) / (1-(optimizer.beta_1**t))\n",
    "    m1 = optimizer.beta_1.numpy() * m1 + (1-optimizer.beta_1.numpy()) * grads[0].numpy()\n",
    "    m2 = optimizer.beta_2.numpy() * m2 + (1-optimizer.beta_2.numpy()) * grads[0].numpy() ** 2  \n",
    "    \n",
    "weights_cal = weights_pre - lr * m1 / (np.sqrt(m2) + optimizer.epsilon)\n",
    "print(weights_cal)\n",
    "print(weights_post)"
   ]
  },
  {
   "cell_type": "code",
   "execution_count": 30,
   "metadata": {},
   "outputs": [
    {
     "name": "stdout",
     "output_type": "stream",
     "text": [
      "에포크 000: 손실: 2.132, 정확도: 35.000%\n",
      "에포크 050: 손실: 0.090, 정확도: 97.500%\n",
      "에포크 100: 손실: 0.062, 정확도: 98.333%\n",
      "에포크 150: 손실: 0.054, 정확도: 99.167%\n",
      "에포크 200: 손실: 0.049, 정확도: 99.167%\n"
     ]
    }
   ],
   "source": [
    "## 노트: 이 셀을 다시 실행하면 동일한 모델의 변수가 사용됩니다.\n",
    "\n",
    "# 도식화를 위해 결과를 저장합니다.\n",
    "train_loss_results = []\n",
    "train_accuracy_results = []\n",
    "\n",
    "num_epochs = 201\n",
    "\n",
    "for epoch in range(num_epochs):\n",
    "    epoch_loss_avg = tf.keras.metrics.Mean()\n",
    "    epoch_accuracy = tf.keras.metrics.SparseCategoricalAccuracy()\n",
    "    \n",
    "    # 훈련 루프 - 32개의 배치를 사용합니다.\n",
    "    for x, y in train_dataset:\n",
    "        # 모델을 최적화합니다.\n",
    "        loss_value, grads = grad(model, x, y)\n",
    "        optimizer.apply_gradients(zip(grads, model.trainable_variables))\n",
    "\n",
    "        # 진행 상황을 추적합니다.\n",
    "        epoch_loss_avg(loss_value)  # 현재 배치 손실을 추가합니다.\n",
    "        # 예측된 레이블과 실제 레이블 비교합니다.\n",
    "        epoch_accuracy(y, model(x))\n",
    "\n",
    "    # epoch 종료\n",
    "    train_loss_results.append(epoch_loss_avg.result())\n",
    "    train_accuracy_results.append(epoch_accuracy.result())\n",
    "\n",
    "    if epoch % 50 == 0:\n",
    "        print(\"에포크 {:03d}: 손실: {:.3f}, 정확도: {:.3%}\".format(epoch, epoch_loss_avg.result(), epoch_accuracy.result()))"
   ]
  },
  {
   "cell_type": "code",
   "execution_count": 31,
   "metadata": {},
   "outputs": [
    {
     "data": {
      "image/png": "[encoded data removed]",
      "text/plain": [
       "<Figure size 864x576 with 2 Axes>"
      ]
     },
     "metadata": {
      "needs_background": "light"
     },
     "output_type": "display_data"
    }
   ],
   "source": [
    "fig, axes = plt.subplots(2, sharex=True, figsize=(12, 8))\n",
    "fig.suptitle('Training Procedure')\n",
    "\n",
    "axes[0].set_ylabel(\"Loss\", fontsize=14)\n",
    "axes[0].plot(train_loss_results)\n",
    "\n",
    "axes[1].set_ylabel(\"Accuracy\", fontsize=14)\n",
    "axes[1].set_xlabel(\"Epoch\", fontsize=14)\n",
    "axes[1].plot(train_accuracy_results)\n",
    "plt.show()"
   ]
  },
  {
   "cell_type": "code",
   "execution_count": 32,
   "metadata": {},
   "outputs": [],
   "source": [
    "test_dataset = tf.data.experimental.make_csv_dataset(\n",
    "    test__dataset_fp,\n",
    "    batch_size,\n",
    "    column_names=column_names,\n",
    "    label_name='species',\n",
    "    num_epochs=1,\n",
    "    shuffle=False)\n",
    "\n",
    "test_dataset = test_dataset.map(pack_features_vector)"
   ]
  },
  {
   "cell_type": "code",
   "execution_count": 33,
   "metadata": {},
   "outputs": [
    {
     "name": "stdout",
     "output_type": "stream",
     "text": [
      "테스트 세트 정확도: 96.667%\n"
     ]
    }
   ],
   "source": [
    "test_accuracy = tf.keras.metrics.Accuracy()\n",
    "\n",
    "for (x, y) in test_dataset:\n",
    "  logits = model(x)\n",
    "  prediction = tf.argmax(logits, axis=1, output_type=tf.int32)\n",
    "  test_accuracy(prediction, y)\n",
    "\n",
    "print(\"테스트 세트 정확도: {:.3%}\".format(test_accuracy.result()))"
   ]
  },
  {
   "cell_type": "code",
   "execution_count": 34,
   "metadata": {},
   "outputs": [
    {
     "data": {
      "text/plain": [
       "<tf.Tensor: id=113648, shape=(30, 2), dtype=int32, numpy=\n",
       "array([[1, 1],\n",
       "       [2, 2],\n",
       "       [0, 0],\n",
       "       [1, 1],\n",
       "       [1, 1],\n",
       "       [1, 1],\n",
       "       [0, 0],\n",
       "       [2, 1],\n",
       "       [1, 1],\n",
       "       [2, 2],\n",
       "       [2, 2],\n",
       "       [0, 0],\n",
       "       [2, 2],\n",
       "       [1, 1],\n",
       "       [1, 1],\n",
       "       [0, 0],\n",
       "       [1, 1],\n",
       "       [0, 0],\n",
       "       [0, 0],\n",
       "       [2, 2],\n",
       "       [0, 0],\n",
       "       [1, 1],\n",
       "       [2, 2],\n",
       "       [1, 1],\n",
       "       [1, 1],\n",
       "       [1, 1],\n",
       "       [0, 0],\n",
       "       [1, 1],\n",
       "       [2, 2],\n",
       "       [1, 1]], dtype=int32)>"
      ]
     },
     "execution_count": 34,
     "metadata": {},
     "output_type": "execute_result"
    }
   ],
   "source": [
    "tf.stack([y,prediction],axis=1)"
   ]
  },
  {
   "cell_type": "code",
   "execution_count": null,
   "metadata": {},
   "outputs": [],
   "source": []
  }
 ],
 "metadata": {
  "kernelspec": {
   "display_name": "Python 3",
   "language": "python",
   "name": "python3"
  },
  "language_info": {
   "codemirror_mode": {
    "name": "ipython",
    "version": 3
   },
   "file_extension": ".py",
   "mimetype": "text/x-python",
   "name": "python",
   "nbconvert_exporter": "python",
   "pygments_lexer": "ipython3",
   "version": "3.6.8"
  }
 },
 "nbformat": 4,
 "nbformat_minor": 4
}
