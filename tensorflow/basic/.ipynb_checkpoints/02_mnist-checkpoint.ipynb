{
 "cells": [
  {
   "cell_type": "markdown",
   "metadata": {},
   "source": [
    "# **기본 모듈**"
   ]
  },
  {
   "cell_type": "code",
   "execution_count": 1,
   "metadata": {},
   "outputs": [
    {
     "name": "stdout",
     "output_type": "stream",
     "text": [
      "2.0.0\n"
     ]
    }
   ],
   "source": [
    "import tensorflow as tf\n",
    "from tensorflow import keras\n",
    "import numpy as np\n",
    "import matplotlib.pyplot as plt\n",
    "np.set_printoptions(precision=3, linewidth=500)\n",
    "print(tf.__version__)"
   ]
  },
  {
   "cell_type": "markdown",
   "metadata": {},
   "source": [
    "# **MNIST 데이터셋 임포트하기**"
   ]
  },
  {
   "cell_type": "markdown",
   "metadata": {},
   "source": [
    "### 10개의 범주(category)와 70,000개의 흑백 이미지로 구성된 패션 MNIST 데이터셋 (각 이미지는 28x28 픽셀)"
   ]
  },
  {
   "cell_type": "code",
   "execution_count": 2,
   "metadata": {},
   "outputs": [
    {
     "name": "stdout",
     "output_type": "stream",
     "text": [
      "dataSetModule? <class 'module'>\n",
      "Training Image: (60000, 28, 28) <class 'numpy.ndarray'>\n",
      "Training Label: (60000,) <class 'numpy.uint8'>\n"
     ]
    }
   ],
   "source": [
    "# Make 'fashion_mnist' module\n",
    "dataSetModule = keras.datasets.mnist     # data set file will be downloaded to '~/.keras/datasets'\n",
    "print('dataSetModule?', type(dataSetModule))\n",
    "\n",
    "# Load Data as Numpy Array\n",
    "(train_images, train_labels), (test_images, test_labels) = dataSetModule.load_data()\n",
    "\n",
    "# Total Number of Image / Pixel Size\n",
    "print('Training Image:', train_images.shape, type(train_images[0]))\n",
    "print('Training Label:', train_labels.shape, type(train_labels[0]))"
   ]
  },
  {
   "cell_type": "markdown",
   "metadata": {},
   "source": [
    "### 데이터 확인"
   ]
  },
  {
   "cell_type": "code",
   "execution_count": 3,
   "metadata": {},
   "outputs": [
    {
     "name": "stdout",
     "output_type": "stream",
     "text": [
      "==========================================\n",
      "  Random Image = train_images[59511]\n",
      "==========================================\n",
      "     0     0     0     0     0     0     0     0     0     0     0     0     0     0     0     0     0     0     0     0     0     0     0     0     0     0     0     0\n",
      "\n",
      "     0     0     0     0     0     0     0     0     0     0     0     0     0     0     0     0     0     0     0     0     0     0     0     0     0     0     0     0\n",
      "\n",
      "     0     0     0     0     0     0     0     0     0     0     0     0     0     0     0     0     0     0     0     0     0     0     0     0     0     0     0     0\n",
      "\n",
      "     0     0     0     0     0     0     0     0     0     0     0     0     0     0     0     0     0     0     0     0     0     0     0     0     0     0     0     0\n",
      "\n",
      "     0     0     0     0     0     0     0     0     0     0     0     0     0     0     0     0     0     0     0     0     0     0     0     0     0     0     0     0\n",
      "\n",
      "     0     0     0     0     0     0     0     0     0     0     0     0     0     0     0     0     0     0    18   235   244    23     0     0     0     0     0     0\n",
      "\n",
      "     0     0     0     0     0     0     0     0     0     0     0    18    79    95   164   223   164   194   203   254   254    96     0     0     0     0     0     0\n",
      "\n",
      "     0     0     0     0     0     0     0     0     0     0    18   172   254   254   254   243   216   254   254   254   254   155     0     0     0     0     0     0\n",
      "\n",
      "     0     0     0     0     0     0     0     0     0     0   114   254   240   124    13    11     6    13    91   254   254   208     0     0     0     0     0     0\n",
      "\n",
      "     0     0     0     0     0     0     0     0     0     0   228   254   151     0     0     0     0    19   226   254   254   168     0     0     0     0     0     0\n",
      "\n",
      "     0     0     0     0     0     0     0     0     0     0   213   254   117     0     0     0    21   219   254   254   218     6     0     0     0     0     0     0\n",
      "\n",
      "     0     0     0     0     0     0     0     0     0     0   128   254   135     0     0    22   187   254   254   204    37     0     0     0     0     0     0     0\n",
      "\n",
      "     0     0     0     0     0     0     0     0     0     0    49   249   248    95    24   186   254   254   214     7     0     0     0     0     0     0     0     0\n",
      "\n",
      "     0     0     0     0     0     0     0     0     0     0     0   109   254   232   184   254   254   228    19     0     0     0     0     0     0     0     0     0\n",
      "\n",
      "     0     0     0     0     0     0     0     0     0     0     0     9   215   254   254   254   222    81     0     0     0     0     0     0     0     0     0     0\n",
      "\n",
      "     0     0     0     0     0     0     0     0     0     0     0     9   186   254   254   254   121     0     0     0     0     0     0     0     0     0     0     0\n",
      "\n",
      "     0     0     0     0     0     0     0    36     6     0    29   209   254   254   254   223     9     0     0     0     0     0     0     0     0     0     0     0\n",
      "\n",
      "     0     0     0     0     0     0     0    15     3     0   140   254   244   244   254   220     6     0     0     0     0     0     0     0     0     0     0     0\n",
      "\n",
      "     0     0     0     0     0     0     0     0     0    51   250   210    55    49   157   254   115     0     0     0     0     0     0     0     0     0     0     0\n",
      "\n",
      "     0     0     0     0     0     0     0     0     0   131   254    96     0     0   123   254   199     0     0     0     0     0     0     0     0     0     0     0\n",
      "\n",
      "     0     0     0     0     0     0     0     0     0   157   254    26     0     0    44   254   220     0     0     0     0     0     0     0     0     0     0     0\n",
      "\n",
      "     0     0     0     0     0     0     0     0     0   238   254    60     0     0   107   254   186     0     0     0     0     0     0     0     0     0     0     0\n",
      "\n",
      "     0     0     0     0     0     0     0     0     0   206   254   146     9    25   206   254   130     0     0     0     0     0     0     0     0     0     0     0\n",
      "\n",
      "     0     0     0     0     0     0     0     0     0    91   253   254   255   254   254   226    15     0     0     0     0     0     0     0     0     0     0     0\n",
      "\n",
      "     0     0     0     0     0     0     0     0     0     0    68   187   254   254   166    42     0     0     0     0     0     0     0     0     0     0     0     0\n",
      "\n",
      "     0     0     0     0     0     0     0     0     0     0     0     0     0     0     0     0     0     0     0     0     0     0     0     0     0     0     0     0\n",
      "\n",
      "     0     0     0     0     0     0     0     0     0     0     0     0     0     0     0     0     0     0     0     0     0     0     0     0     0     0     0     0\n",
      "\n",
      "     0     0     0     0     0     0     0     0     0     0     0     0     0     0     0     0     0     0     0     0     0     0     0     0     0     0     0     0\n",
      "\n"
     ]
    },
    {
     "data": {
      "image/png": "[encoded data removed]",
      "text/plain": [
       "<Figure size 432x288 with 2 Axes>"
      ]
     },
     "metadata": {
      "needs_background": "light"
     },
     "output_type": "display_data"
    }
   ],
   "source": [
    "# Select a Random Image\n",
    "from random import *\n",
    "rndInt = randint(0,59999)\n",
    "aImg = train_images[rndInt]\n",
    "print('==========================================')\n",
    "print('  Random Image = train_images[%d]'%(rndInt))\n",
    "print('==========================================')\n",
    "\n",
    "# Print the Selected Image as Numerical Matrix\n",
    "for aRow in aImg:\n",
    "    for aPixel in aRow:\n",
    "        print('%6d'%(aPixel), end='')\n",
    "    print('\\n')\n",
    "\n",
    "# Print the Selected Image as a Figure\n",
    "plt.figure()\n",
    "plt.imshow(aImg, cmap='Greys')\n",
    "plt.colorbar()\n",
    "plt.grid(False)\n",
    "plt.show()"
   ]
  },
  {
   "cell_type": "markdown",
   "metadata": {},
   "source": [
    "### 데이터 전처리"
   ]
  },
  {
   "cell_type": "code",
   "execution_count": 4,
   "metadata": {},
   "outputs": [
    {
     "data": {
      "image/png": "[encoded data removed]",
      "text/plain": [
       "<Figure size 720x720 with 25 Axes>"
      ]
     },
     "metadata": {},
     "output_type": "display_data"
    }
   ],
   "source": [
    "train_images = train_images / 255.0\n",
    "test_images = test_images / 255.0\n",
    "\n",
    "plt.figure(figsize=(10,10))\n",
    "for i in range(25):\n",
    "    plt.subplot(5,5,i+1)\n",
    "    plt.xticks([])\n",
    "    plt.yticks([])\n",
    "    plt.grid(False)\n",
    "    plt.imshow(train_images[i], cmap=plt.cm.binary)\n",
    "    plt.xlabel(train_labels[i])\n",
    "plt.show()"
   ]
  },
  {
   "cell_type": "markdown",
   "metadata": {},
   "source": [
    "### 층 설정"
   ]
  },
  {
   "cell_type": "code",
   "execution_count": 5,
   "metadata": {},
   "outputs": [
    {
     "name": "stdout",
     "output_type": "stream",
     "text": [
      "<class 'tensorflow.python.keras.engine.sequential.Sequential'>\n",
      "<class 'tensorflow.python.keras.layers.core.Flatten'>\n",
      "<class 'tensorflow.python.keras.layers.core.Dense'>\n",
      "\n",
      "\n",
      "Model: \"sequential\"\n",
      "_________________________________________________________________\n",
      "Layer (type)                 Output Shape              Param #   \n",
      "=================================================================\n",
      "flatten (Flatten)            (None, 784)               0         \n",
      "_________________________________________________________________\n",
      "dense (Dense)                (None, 128)               100480    \n",
      "_________________________________________________________________\n",
      "dense_1 (Dense)              (None, 10)                1290      \n",
      "=================================================================\n",
      "Total params: 101,770\n",
      "Trainable params: 101,770\n",
      "Non-trainable params: 0\n",
      "_________________________________________________________________\n"
     ]
    }
   ],
   "source": [
    "model = keras.Sequential([\n",
    "    keras.layers.Flatten(input_shape=(28, 28)),\n",
    "    keras.layers.Dense(128, activation='relu'),\n",
    "    keras.layers.Dense(10, activation='softmax')\n",
    "])\n",
    "print(type(model))\n",
    "print(type(keras.layers.Flatten(input_shape=(28, 28))))\n",
    "print(type(keras.layers.Dense(128, activation='relu')))\n",
    "print('\\n')\n",
    "model.summary()"
   ]
  },
  {
   "cell_type": "markdown",
   "metadata": {},
   "source": [
    "### 모델 컴파일"
   ]
  },
  {
   "cell_type": "code",
   "execution_count": 6,
   "metadata": {},
   "outputs": [],
   "source": [
    "model.compile(optimizer='adam',\n",
    "              loss='sparse_categorical_crossentropy',\n",
    "              metrics=['accuracy'])"
   ]
  },
  {
   "cell_type": "markdown",
   "metadata": {},
   "source": [
    "### 검증 세트 만들기"
   ]
  },
  {
   "cell_type": "code",
   "execution_count": 7,
   "metadata": {},
   "outputs": [],
   "source": [
    "x_val = train_images[:10000]\n",
    "partial_x_train = train_images[10000:]\n",
    "\n",
    "y_val = train_labels[:10000]\n",
    "partial_y_train = train_labels[10000:]"
   ]
  },
  {
   "cell_type": "markdown",
   "metadata": {},
   "source": [
    "### 모델 훈련"
   ]
  },
  {
   "cell_type": "code",
   "execution_count": 8,
   "metadata": {},
   "outputs": [
    {
     "name": "stdout",
     "output_type": "stream",
     "text": [
      "Train on 50000 samples, validate on 10000 samples\n",
      "Epoch 1/30\n",
      "50000/50000 [==============================] - 1s 29us/sample - loss: 0.6583 - accuracy: 0.8273 - val_loss: 0.3047 - val_accuracy: 0.9144\n",
      "Epoch 2/30\n",
      "50000/50000 [==============================] - 1s 12us/sample - loss: 0.2691 - accuracy: 0.9258 - val_loss: 0.2353 - val_accuracy: 0.9362\n",
      "Epoch 3/30\n",
      "50000/50000 [==============================] - 1s 22us/sample - loss: 0.2133 - accuracy: 0.9410 - val_loss: 0.1970 - val_accuracy: 0.9448\n",
      "Epoch 4/30\n",
      "50000/50000 [==============================] - 1s 14us/sample - loss: 0.1777 - accuracy: 0.9507 - val_loss: 0.1750 - val_accuracy: 0.9506\n",
      "Epoch 5/30\n",
      "50000/50000 [==============================] - 1s 16us/sample - loss: 0.1520 - accuracy: 0.9577 - val_loss: 0.1550 - val_accuracy: 0.9558\n",
      "Epoch 6/30\n",
      "50000/50000 [==============================] - 1s 14us/sample - loss: 0.1325 - accuracy: 0.9629 - val_loss: 0.1424 - val_accuracy: 0.9592\n",
      "Epoch 7/30\n",
      "50000/50000 [==============================] - 1s 18us/sample - loss: 0.1168 - accuracy: 0.9672 - val_loss: 0.1319 - val_accuracy: 0.9621\n",
      "Epoch 8/30\n",
      "50000/50000 [==============================] - 1s 15us/sample - loss: 0.1048 - accuracy: 0.9711 - val_loss: 0.1210 - val_accuracy: 0.9651\n",
      "Epoch 9/30\n",
      "50000/50000 [==============================] - 1s 13us/sample - loss: 0.0930 - accuracy: 0.9745 - val_loss: 0.1162 - val_accuracy: 0.9657\n",
      "Epoch 10/30\n",
      "50000/50000 [==============================] - 1s 13us/sample - loss: 0.0839 - accuracy: 0.9770 - val_loss: 0.1090 - val_accuracy: 0.9683\n",
      "Epoch 11/30\n",
      "50000/50000 [==============================] - 1s 13us/sample - loss: 0.0770 - accuracy: 0.9783 - val_loss: 0.1044 - val_accuracy: 0.9688\n",
      "Epoch 12/30\n",
      "50000/50000 [==============================] - 1s 16us/sample - loss: 0.0697 - accuracy: 0.9807 - val_loss: 0.1048 - val_accuracy: 0.9686\n",
      "Epoch 13/30\n",
      "50000/50000 [==============================] - 1s 13us/sample - loss: 0.0638 - accuracy: 0.9823 - val_loss: 0.0957 - val_accuracy: 0.9699\n",
      "Epoch 14/30\n",
      "50000/50000 [==============================] - 1s 13us/sample - loss: 0.0579 - accuracy: 0.9846 - val_loss: 0.0961 - val_accuracy: 0.9710\n",
      "Epoch 15/30\n",
      "50000/50000 [==============================] - 1s 14us/sample - loss: 0.0533 - accuracy: 0.9854 - val_loss: 0.0925 - val_accuracy: 0.9717\n",
      "Epoch 16/30\n",
      "50000/50000 [==============================] - 1s 16us/sample - loss: 0.0489 - accuracy: 0.9872 - val_loss: 0.0922 - val_accuracy: 0.9725\n",
      "Epoch 17/30\n",
      "50000/50000 [==============================] - 1s 14us/sample - loss: 0.0445 - accuracy: 0.9883 - val_loss: 0.0899 - val_accuracy: 0.9723\n",
      "Epoch 18/30\n",
      "50000/50000 [==============================] - 1s 26us/sample - loss: 0.0410 - accuracy: 0.9897 - val_loss: 0.0860 - val_accuracy: 0.9732\n",
      "Epoch 19/30\n",
      "50000/50000 [==============================] - 1s 18us/sample - loss: 0.0379 - accuracy: 0.9904 - val_loss: 0.0858 - val_accuracy: 0.9740\n",
      "Epoch 20/30\n",
      "50000/50000 [==============================] - 1s 18us/sample - loss: 0.0352 - accuracy: 0.9914 - val_loss: 0.0873 - val_accuracy: 0.9742\n",
      "Epoch 21/30\n",
      "50000/50000 [==============================] - 1s 14us/sample - loss: 0.0320 - accuracy: 0.9924 - val_loss: 0.0861 - val_accuracy: 0.9742\n",
      "Epoch 22/30\n",
      "50000/50000 [==============================] - 1s 14us/sample - loss: 0.0296 - accuracy: 0.9932 - val_loss: 0.0874 - val_accuracy: 0.9743\n",
      "Epoch 23/30\n",
      "50000/50000 [==============================] - 1s 14us/sample - loss: 0.0277 - accuracy: 0.9934 - val_loss: 0.0843 - val_accuracy: 0.9761\n",
      "Epoch 24/30\n",
      "50000/50000 [==============================] - 1s 17us/sample - loss: 0.0255 - accuracy: 0.9946 - val_loss: 0.0850 - val_accuracy: 0.9748\n",
      "Epoch 25/30\n",
      "50000/50000 [==============================] - 1s 16us/sample - loss: 0.0237 - accuracy: 0.9951 - val_loss: 0.0840 - val_accuracy: 0.9757\n",
      "Epoch 26/30\n",
      "50000/50000 [==============================] - 1s 15us/sample - loss: 0.0227 - accuracy: 0.9953 - val_loss: 0.0845 - val_accuracy: 0.9762\n",
      "Epoch 27/30\n",
      "50000/50000 [==============================] - 1s 15us/sample - loss: 0.0207 - accuracy: 0.9961 - val_loss: 0.0825 - val_accuracy: 0.9755\n",
      "Epoch 28/30\n",
      "50000/50000 [==============================] - 1s 17us/sample - loss: 0.0186 - accuracy: 0.9969 - val_loss: 0.0833 - val_accuracy: 0.9758\n",
      "Epoch 29/30\n",
      "50000/50000 [==============================] - 1s 16us/sample - loss: 0.0171 - accuracy: 0.9971 - val_loss: 0.0824 - val_accuracy: 0.9771\n",
      "Epoch 30/30\n",
      "50000/50000 [==============================] - 1s 15us/sample - loss: 0.0162 - accuracy: 0.9975 - val_loss: 0.0848 - val_accuracy: 0.9767\n"
     ]
    }
   ],
   "source": [
    "history = model.fit(partial_x_train,\n",
    "                    partial_y_train,\n",
    "                    epochs=30,\n",
    "                    batch_size=512,\n",
    "                    validation_data=(x_val, y_val),\n",
    "                    verbose=1)"
   ]
  },
  {
   "cell_type": "code",
   "execution_count": 9,
   "metadata": {},
   "outputs": [
    {
     "data": {
      "image/png": "[encoded data removed]",
      "text/plain": [
       "<Figure size 432x288 with 1 Axes>"
      ]
     },
     "metadata": {
      "needs_background": "light"
     },
     "output_type": "display_data"
    }
   ],
   "source": [
    "history_dict = history.history\n",
    "history_dict.keys()\n",
    "acc = history_dict['accuracy']\n",
    "val_acc = history_dict['val_accuracy']\n",
    "loss = history_dict['loss']\n",
    "val_loss = history_dict['val_loss']\n",
    "\n",
    "epochs = range(1, len(acc) + 1)\n",
    "\n",
    "# \"bo\"는 \"파란색 점\"입니다\n",
    "plt.plot(epochs, loss, 'bo', label='Training loss')\n",
    "# b는 \"파란 실선\"입니다\n",
    "plt.plot(epochs, val_loss, 'b', label='Validation loss')\n",
    "plt.title('Training and validation loss')\n",
    "plt.xlabel('Epochs')\n",
    "plt.ylabel('Loss')\n",
    "plt.legend()\n",
    "plt.show()"
   ]
  },
  {
   "cell_type": "code",
   "execution_count": 10,
   "metadata": {},
   "outputs": [
    {
     "data": {
      "image/png": "[encoded data removed]",
      "text/plain": [
       "<Figure size 432x288 with 1 Axes>"
      ]
     },
     "metadata": {
      "needs_background": "light"
     },
     "output_type": "display_data"
    }
   ],
   "source": [
    "plt.clf()   # 그림을 초기화합니다\n",
    "\n",
    "plt.plot(epochs, acc, 'bo', label='Training acc')\n",
    "plt.plot(epochs, val_acc, 'b', label='Validation acc')\n",
    "plt.title('Training and validation accuracy')\n",
    "plt.xlabel('Epochs')\n",
    "plt.ylabel('Accuracy')\n",
    "plt.legend()\n",
    "plt.show()"
   ]
  },
  {
   "cell_type": "code",
   "execution_count": 77,
   "metadata": {},
   "outputs": [
    {
     "name": "stdout",
     "output_type": "stream",
     "text": [
      "10000/1 - 0s - loss: 0.0410 - accuracy: 0.9760\n",
      "\n",
      "테스트 정확도: 0.976\n"
     ]
    }
   ],
   "source": [
    "test_loss, test_acc = model.evaluate(test_images,  test_labels, verbose=2)\n",
    "\n",
    "print('\\n테스트 정확도:', test_acc)"
   ]
  },
  {
   "cell_type": "code",
   "execution_count": 184,
   "metadata": {},
   "outputs": [
    {
     "data": {
      "image/png": "[encoded data removed]",
      "text/plain": [
       "<Figure size 432x288 with 2 Axes>"
      ]
     },
     "metadata": {
      "needs_background": "light"
     },
     "output_type": "display_data"
    }
   ],
   "source": [
    "drawImg = '/mnt/c/WSL/3.jpg'\n",
    "trueLabel = [4]\n",
    "\n",
    "from PIL import Image\n",
    "img = (255-np.array(Image.open(drawImg).convert('L')))/255\n",
    "plt.figure()\n",
    "plt.imshow(img, cmap='Greys')\n",
    "plt.colorbar()\n",
    "plt.grid(False)\n",
    "plt.show()"
   ]
  },
  {
   "cell_type": "code",
   "execution_count": 188,
   "metadata": {},
   "outputs": [
    {
     "name": "stdout",
     "output_type": "stream",
     "text": [
      "0: 0.01 %\n",
      "1: 0.00 %\n",
      "2: 1.75 %\n",
      "3: 24.50 %\n",
      "4: 65.45 %\n",
      "5: 2.31 %\n",
      "6: 0.00 %\n",
      "7: 0.23 %\n",
      "8: 0.03 %\n",
      "9: 5.73 %\n"
     ]
    }
   ],
   "source": [
    "predImg = np.array([img])\n",
    "predImg.shape\n",
    "pred = model.predict(predImg)\n",
    "for idx, aProb in enumerate(pred[0]):\n",
    "    print('{}: {:2.2f} %'.format(idx, aProb*100))"
   ]
  },
  {
   "cell_type": "code",
   "execution_count": 186,
   "metadata": {},
   "outputs": [],
   "source": [
    "def plot_image(i, predictions_array, true_label, img):\n",
    "    predictions_array, true_label, img = predictions_array[i], true_label[i], img[i]\n",
    "    plt.grid(False)\n",
    "    plt.xticks([])\n",
    "    plt.yticks([])\n",
    "\n",
    "    plt.imshow(img, cmap=plt.cm.binary)\n",
    "\n",
    "    predicted_label = np.argmax(predictions_array)\n",
    "    if predicted_label == true_label:\n",
    "        color = 'blue'\n",
    "    else:\n",
    "        color = 'red'\n",
    "\n",
    "    plt.xlabel(\"Number: {}, {:2.0f}% ({})\".format(predicted_label,\n",
    "                                            100*np.max(predictions_array),\n",
    "                                            true_label),\n",
    "                                            color=color)\n",
    "\n",
    "def plot_value_array(i, predictions_array, true_label):\n",
    "    predictions_array, true_label = predictions_array[i], true_label[i]\n",
    "    plt.grid(False)\n",
    "    plt.xticks([])\n",
    "    plt.yticks([])\n",
    "    thisplot = plt.bar(range(10), predictions_array, color=\"#777777\")\n",
    "    plt.ylim([0, 1])\n",
    "    predicted_label = np.argmax(predictions_array)\n",
    "\n",
    "    thisplot[predicted_label].set_color('red')\n",
    "    thisplot[true_label].set_color('blue')"
   ]
  },
  {
   "cell_type": "code",
   "execution_count": 187,
   "metadata": {},
   "outputs": [
    {
     "data": {
      "image/png": "[encoded data removed]",
      "text/plain": [
       "<Figure size 288x144 with 2 Axes>"
      ]
     },
     "metadata": {},
     "output_type": "display_data"
    }
   ],
   "source": [
    "num_rows = 1\n",
    "num_cols = 1\n",
    "num_images = num_rows*num_cols\n",
    "plt.figure(figsize=(2*2*num_cols, 2*num_rows))\n",
    "for i in range(num_images):\n",
    "    plt.subplot(num_rows, 2*num_cols, 2*i+1)\n",
    "    plot_image(i, pred, trueLabel, predImg)\n",
    "    plt.subplot(num_rows, 2*num_cols, 2*i+2)\n",
    "    plot_value_array(i, pred, trueLabel)\n",
    "plt.show()"
   ]
  },
  {
   "cell_type": "code",
   "execution_count": null,
   "metadata": {},
   "outputs": [],
   "source": []
  }
 ],
 "metadata": {
  "kernelspec": {
   "display_name": "Python 3",
   "language": "python",
   "name": "python3"
  },
  "language_info": {
   "codemirror_mode": {
    "name": "ipython",
    "version": 3
   },
   "file_extension": ".py",
   "mimetype": "text/x-python",
   "name": "python",
   "nbconvert_exporter": "python",
   "pygments_lexer": "ipython3",
   "version": "3.6.8"
  }
 },
 "nbformat": 4,
 "nbformat_minor": 4
}
