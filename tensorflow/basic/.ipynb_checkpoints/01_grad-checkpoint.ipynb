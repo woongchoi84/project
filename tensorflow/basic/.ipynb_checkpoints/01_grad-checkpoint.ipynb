{
 "cells": [
  {
   "cell_type": "markdown",
   "metadata": {},
   "source": [
    "# 붓꽃의 품종 분류"
   ]
  },
  {
   "cell_type": "code",
   "execution_count": 1,
   "metadata": {},
   "outputs": [
    {
     "name": "stdout",
     "output_type": "stream",
     "text": [
      "텐서플로 버전: 2.0.0-rc1\n",
      "즉시 실행: True\n"
     ]
    }
   ],
   "source": [
    "import os\n",
    "import tensorflow as tf\n",
    "import numpy as np\n",
    "import pandas as pd\n",
    "import matplotlib.pyplot as plt\n",
    "print(\"텐서플로 버전: {}\".format(tf.__version__))\n",
    "print(\"즉시 실행: {}\".format(tf.executing_eagerly()))\n",
    "np.set_printoptions(precision=3, linewidth=500)"
   ]
  },
  {
   "cell_type": "markdown",
   "metadata": {},
   "source": [
    "## 측정된 꽃받침과 꽃잎의 길이와 폭을 토대로 붓꽃을 분류하는 모델을 통해 경사하강법(GD) 학습\n",
    "* Iris setosa\n",
    "* Iris virginica\n",
    "* Iris versicolor"
   ]
  },
  {
   "cell_type": "markdown",
   "metadata": {},
   "source": [
    "![꽃](https://www.tensorflow.org/images/iris_three_species.jpg)"
   ]
  },
  {
   "cell_type": "markdown",
   "metadata": {},
   "source": [
    "## 데이터 (CSV)"
   ]
  },
  {
   "cell_type": "code",
   "execution_count": 2,
   "metadata": {},
   "outputs": [
    {
     "name": "stdout",
     "output_type": "stream",
     "text": [
      "데이터셋이 복사된 위치: /home/woong/.keras/datasets/iris_training.csv\n",
      "120,4,setosa,versicolor,virginica\n",
      "6.4,2.8,5.6,2.2,2\n",
      "5.0,2.3,3.3,1.0,1\n",
      "4.9,2.5,4.5,1.7,2\n",
      "4.9,3.1,1.5,0.1,0\n",
      "30,4,setosa,versicolor,virginica\n",
      "5.9,3.0,4.2,1.5,1\n",
      "6.9,3.1,5.4,2.1,2\n",
      "5.1,3.3,1.7,0.5,0\n",
      "6.0,3.4,4.5,1.6,1\n"
     ]
    }
   ],
   "source": [
    "train_dataset_url = \"https://storage.googleapis.com/download.tensorflow.org/data/iris_training.csv\"\n",
    "test__dataset_url = \"https://storage.googleapis.com/download.tensorflow.org/data/iris_test.csv\"\n",
    "\n",
    "train_dataset_fp = tf.keras.utils.get_file(fname=os.path.basename(train_dataset_url), origin=train_dataset_url)\n",
    "test__dataset_fp = tf.keras.utils.get_file(fname=os.path.basename(test__dataset_url), origin=test__dataset_url)\n",
    "\n",
    "print(\"데이터셋이 복사된 위치: {}\".format(train_dataset_fp))\n",
    "!head -n5 {train_dataset_fp}\n",
    "!head -n5 {test__dataset_fp}"
   ]
  },
  {
   "cell_type": "code",
   "execution_count": 3,
   "metadata": {},
   "outputs": [
    {
     "name": "stdout",
     "output_type": "stream",
     "text": [
      "특성: ['sepal_length', 'sepal_width', 'petal_length', 'petal_width']\n",
      "레이블: species\n"
     ]
    }
   ],
   "source": [
    "# column_name = ['꽃잎 길이', '꽃잎 너비', '꽃받침 길이', '꽃받침 너비', '종']\n",
    "column_names = ['sepal_length', 'sepal_width', 'petal_length', 'petal_width', 'species']\n",
    "\n",
    "# species = 0: Iris setosa, 1: Iris versicolor, 2: Iris virginica\n",
    "class_names = ['Iris setosa', 'Iris versicolor', 'Iris virginica']\n",
    "\n",
    "feature_names = column_names[:-1]\n",
    "label_name = column_names[-1]\n",
    "\n",
    "print(\"특성: {}\".format(feature_names))\n",
    "print(\"레이블: {}\".format(label_name))"
   ]
  },
  {
   "cell_type": "code",
   "execution_count": 4,
   "metadata": {},
   "outputs": [
    {
     "name": "stdout",
     "output_type": "stream",
     "text": [
      "WARNING:tensorflow:From /usr/local/lib/python3.6/dist-packages/tensorflow_core/python/data/experimental/ops/readers.py:521: parallel_interleave (from tensorflow.python.data.experimental.ops.interleave_ops) is deprecated and will be removed in a future version.\n",
      "Instructions for updating:\n",
      "Use `tf.data.Dataset.interleave(map_func, cycle_length, block_length, num_parallel_calls=tf.data.experimental.AUTOTUNE)` instead. If sloppy execution is desired, use `tf.data.Options.experimental_determinstic`.\n"
     ]
    }
   ],
   "source": [
    "batch_size = 32\n",
    "train_dataset = tf.data.experimental.make_csv_dataset(\n",
    "    train_dataset_fp,\n",
    "    batch_size,\n",
    "    column_names=column_names,\n",
    "    label_name=label_name,\n",
    "    shuffle=False,\n",
    "    num_epochs=1)"
   ]
  },
  {
   "cell_type": "code",
   "execution_count": 5,
   "metadata": {},
   "outputs": [
    {
     "data": {
      "image/png": "[encoded data removed]",
      "text/plain": [
       "<Figure size 432x288 with 1 Axes>"
      ]
     },
     "metadata": {
      "needs_background": "light"
     },
     "output_type": "display_data"
    }
   ],
   "source": [
    "features, labels = next(iter(train_dataset))\n",
    "plt.scatter(features['petal_length'], features['sepal_length'], c=labels, cmap='viridis')\n",
    "plt.xlabel(\"Petal length\")\n",
    "plt.ylabel(\"Sepal length\")\n",
    "plt.show()"
   ]
  },
  {
   "cell_type": "code",
   "execution_count": 6,
   "metadata": {},
   "outputs": [],
   "source": [
    "def pack_features_vector(features, labels):\n",
    "  \"\"\"특성들을 단일 배열로 묶습니다.\"\"\"\n",
    "# tf.stack: Stacks a list of rank-R tensors into one rank-(R+1) tensor.\n",
    "  features = tf.stack(list(features.values()), axis=1)\n",
    "  return features, labels"
   ]
  },
  {
   "cell_type": "code",
   "execution_count": 7,
   "metadata": {},
   "outputs": [
    {
     "name": "stdout",
     "output_type": "stream",
     "text": [
      "WARNING:tensorflow:Entity <function pack_features_vector at 0x7f306769fae8> could not be transformed and will be executed as-is. Please report this to the AutoGraph team. When filing the bug, set the verbosity to 10 (on Linux, `export AUTOGRAPH_VERBOSITY=10`) and attach the full output. Cause: Bad argument number for Name: 3, expecting 4\n",
      "WARNING: Entity <function pack_features_vector at 0x7f306769fae8> could not be transformed and will be executed as-is. Please report this to the AutoGraph team. When filing the bug, set the verbosity to 10 (on Linux, `export AUTOGRAPH_VERBOSITY=10`) and attach the full output. Cause: Bad argument number for Name: 3, expecting 4\n"
     ]
    }
   ],
   "source": [
    "train_dataset = train_dataset.map(pack_features_vector)"
   ]
  },
  {
   "cell_type": "code",
   "execution_count": 8,
   "metadata": {},
   "outputs": [
    {
     "data": {
      "text/plain": [
       "<MapDataset shapes: ((None, 4), (None,)), types: (tf.float32, tf.int32)>"
      ]
     },
     "execution_count": 8,
     "metadata": {},
     "output_type": "execute_result"
    }
   ],
   "source": [
    "train_dataset"
   ]
  },
  {
   "cell_type": "code",
   "execution_count": 9,
   "metadata": {},
   "outputs": [
    {
     "name": "stdout",
     "output_type": "stream",
     "text": [
      "tf.Tensor(\n",
      "[[6.4 2.8 5.6 2.2]\n",
      " [5.  2.3 3.3 1. ]\n",
      " [4.9 2.5 4.5 1.7]\n",
      " [4.9 3.1 1.5 0.1]\n",
      " [5.7 3.8 1.7 0.3]], shape=(5, 4), dtype=float32) tf.Tensor([2 1 2 0 0], shape=(5,), dtype=int32)\n"
     ]
    }
   ],
   "source": [
    "features, labels = next(iter(train_dataset))\n",
    "print(features[:5], labels[:5])"
   ]
  },
  {
   "cell_type": "markdown",
   "metadata": {},
   "source": [
    "## 데이터 (pandas)"
   ]
  },
  {
   "cell_type": "code",
   "execution_count": 10,
   "metadata": {},
   "outputs": [
    {
     "data": {
      "text/html": [
       "<div>\n",
       "<style scoped>\n",
       "    .dataframe tbody tr th:only-of-type {\n",
       "        vertical-align: middle;\n",
       "    }\n",
       "\n",
       "    .dataframe tbody tr th {\n",
       "        vertical-align: top;\n",
       "    }\n",
       "\n",
       "    .dataframe thead th {\n",
       "        text-align: right;\n",
       "    }\n",
       "</style>\n",
       "<table border=\"1\" class=\"dataframe\">\n",
       "  <thead>\n",
       "    <tr style=\"text-align: right;\">\n",
       "      <th></th>\n",
       "      <th>sepal_length</th>\n",
       "      <th>sepal_width</th>\n",
       "      <th>petal_length</th>\n",
       "      <th>petal_width</th>\n",
       "    </tr>\n",
       "  </thead>\n",
       "  <tbody>\n",
       "    <tr>\n",
       "      <td>0</td>\n",
       "      <td>6.4</td>\n",
       "      <td>2.8</td>\n",
       "      <td>5.6</td>\n",
       "      <td>2.2</td>\n",
       "    </tr>\n",
       "    <tr>\n",
       "      <td>1</td>\n",
       "      <td>5.0</td>\n",
       "      <td>2.3</td>\n",
       "      <td>3.3</td>\n",
       "      <td>1.0</td>\n",
       "    </tr>\n",
       "    <tr>\n",
       "      <td>2</td>\n",
       "      <td>4.9</td>\n",
       "      <td>2.5</td>\n",
       "      <td>4.5</td>\n",
       "      <td>1.7</td>\n",
       "    </tr>\n",
       "    <tr>\n",
       "      <td>3</td>\n",
       "      <td>4.9</td>\n",
       "      <td>3.1</td>\n",
       "      <td>1.5</td>\n",
       "      <td>0.1</td>\n",
       "    </tr>\n",
       "    <tr>\n",
       "      <td>4</td>\n",
       "      <td>5.7</td>\n",
       "      <td>3.8</td>\n",
       "      <td>1.7</td>\n",
       "      <td>0.3</td>\n",
       "    </tr>\n",
       "  </tbody>\n",
       "</table>\n",
       "</div>"
      ],
      "text/plain": [
       "   sepal_length  sepal_width  petal_length  petal_width\n",
       "0           6.4          2.8           5.6          2.2\n",
       "1           5.0          2.3           3.3          1.0\n",
       "2           4.9          2.5           4.5          1.7\n",
       "3           4.9          3.1           1.5          0.1\n",
       "4           5.7          3.8           1.7          0.3"
      ]
     },
     "execution_count": 10,
     "metadata": {},
     "output_type": "execute_result"
    }
   ],
   "source": [
    "# pandas.read_csv : Read a comma-separated values (csv) file into DataFrame.\n",
    "pdFeature = pd.read_csv(train_dataset_fp, sep=',', skiprows=1, names=['sepal_length', 'sepal_width', 'petal_length', 'petal_width', 'species'])\n",
    "\n",
    "# pandas.DataFrame.pop : Return item and drop from frame. Raise KeyError if not found.\n",
    "pdLabel = pdFeature.pop('species')\n",
    "\n",
    "# pandas.DataFrame.head : Return the first n rows.\n",
    "pdFeature.head(5)"
   ]
  },
  {
   "cell_type": "code",
   "execution_count": 11,
   "metadata": {},
   "outputs": [
    {
     "data": {
      "text/plain": [
       "(120, 4)"
      ]
     },
     "execution_count": 11,
     "metadata": {},
     "output_type": "execute_result"
    }
   ],
   "source": [
    "# tf.data.Dataset.from_tensor_slices: Creates a Dataset whose elements are slices of the given tensors..\n",
    "pdDataset = tf.data.Dataset.from_tensor_slices((pdFeature.values, pdLabel.values))\n",
    "pdFeature.values.shape"
   ]
  },
  {
   "cell_type": "code",
   "execution_count": 12,
   "metadata": {},
   "outputs": [
    {
     "name": "stdout",
     "output_type": "stream",
     "text": [
      "Row: 0, Features: [6.4 2.8 5.6 2.2], Species: 2\n",
      "Row: 1, Features: [5.  2.3 3.3 1. ], Species: 1\n",
      "Row: 2, Features: [4.9 2.5 4.5 1.7], Species: 2\n",
      "Row: 3, Features: [4.9 3.1 1.5 0.1], Species: 0\n",
      "Row: 4, Features: [5.7 3.8 1.7 0.3], Species: 0\n"
     ]
    }
   ],
   "source": [
    "for row, data in enumerate(pdDataset.take(5)):\n",
    "    print ('Row: {}, Features: {}, Species: {}'.format(row, data[0], data[1]))"
   ]
  },
  {
   "cell_type": "markdown",
   "metadata": {},
   "source": [
    "## 모델"
   ]
  },
  {
   "cell_type": "markdown",
   "metadata": {},
   "source": [
    "![](https://www.tensorflow.org/images/custom_estimators/full_network.png)"
   ]
  },
  {
   "cell_type": "code",
   "execution_count": 13,
   "metadata": {},
   "outputs": [
    {
     "name": "stdout",
     "output_type": "stream",
     "text": [
      "Model: \"sequential\"\n",
      "_________________________________________________________________\n",
      "Layer (type)                 Output Shape              Param #   \n",
      "=================================================================\n",
      "dense (Dense)                (None, 10)                50        \n",
      "_________________________________________________________________\n",
      "dense_1 (Dense)              (None, 10)                110       \n",
      "_________________________________________________________________\n",
      "dense_2 (Dense)              (None, 3)                 33        \n",
      "=================================================================\n",
      "Total params: 193\n",
      "Trainable params: 193\n",
      "Non-trainable params: 0\n",
      "_________________________________________________________________\n"
     ]
    }
   ],
   "source": [
    "# tf.keras.Sequential: Linear stack of layers.\n",
    "# Please check the configuration of each layer (press 'Shift+Tab' in xx.Dense(here!))\n",
    "model = tf.keras.Sequential([\n",
    "  tf.keras.layers.Dense(10, activation=tf.nn.relu, input_shape=(4,)),  # Weight:  4-inputs * 10-dense =  40,  Bias: 10, Total:  50\n",
    "  tf.keras.layers.Dense(10, activation=tf.nn.relu),                    # Weight: 10-inputs * 10-dense = 100,  Bias: 10, Total: 110\n",
    "  tf.keras.layers.Dense(3)                                             # Weight: 10-inputs *  3-dense =  30,  Bias:  3, Total:  33\n",
    "])\n",
    "model.summary()\n",
    "#help(model)"
   ]
  },
  {
   "cell_type": "markdown",
   "metadata": {},
   "source": [
    "## 훈련 (Training) 전 모델 사용"
   ]
  },
  {
   "cell_type": "code",
   "execution_count": 14,
   "metadata": {},
   "outputs": [
    {
     "name": "stdout",
     "output_type": "stream",
     "text": [
      "Input Shape: (32, 4)\n",
      "Layer 0: Weight(4, 10) Bias(10,) Activation(None, 10)\n",
      "Layer 1: Weight(10, 10) Bias(10,) Activation(None, 10)\n",
      "Layer 2: Weight(10, 3) Bias(3,) Activation(None, 3)\n"
     ]
    }
   ],
   "source": [
    "print('Input Shape: {}'.format(features.shape))\n",
    "for i in range(len(model.layers)):\n",
    "    print('Layer {}: Weight{} Bias{} Activation{}'.format(i, model.layers[i].weights[0].shape, model.layers[i].bias.shape, model.layers[i].output.shape))"
   ]
  },
  {
   "cell_type": "code",
   "execution_count": 15,
   "metadata": {},
   "outputs": [
    {
     "name": "stdout",
     "output_type": "stream",
     "text": [
      ">> 1st Features:\n",
      " [6.4 2.8 5.6 2.2]\n",
      "\n",
      ">> Weights (Input-Layer1):\n",
      " [[-0.344  0.005  0.414 -0.522  0.615 -0.408 -0.042  0.437 -0.548  0.56 ]\n",
      " [ 0.164  0.406  0.068 -0.385  0.543  0.491 -0.011  0.155 -0.531  0.329]\n",
      " [ 0.032  0.124 -0.242  0.083 -0.269 -0.19  -0.074 -0.081 -0.473  0.088]\n",
      " [-0.501  0.527  0.314  0.464 -0.422  0.237 -0.636  0.266  0.519 -0.121]]\n",
      "\n",
      ">> Biases   (Input-Layer1):\n",
      " [0. 0. 0. 0. 0. 0. 0. 0. 0. 0.]\n",
      "\n",
      ">> Layer1 MatMul[0,0]: -2.6622062\n",
      "\n",
      ">> Layer1 MatMul: \n",
      " [[-2.662  3.022  2.176 -2.933  3.024 -1.777 -2.112  3.368 -6.499  4.728]\n",
      " [-1.736  1.894  1.742 -2.757  3.016 -1.299 -1.115  2.544 -5.002  3.724]\n",
      " [-1.981  2.493  1.644 -2.358  2.445 -1.222 -1.646  2.621 -5.257  3.754]\n",
      " [-1.177  1.52   1.909 -3.581  4.252 -0.737 -0.414  2.53  -4.988  3.882]\n",
      " [-1.43   1.938  2.303 -4.159  4.987 -0.71  -0.597  3.026 -5.789  4.553]]\n",
      "\n"
     ]
    }
   ],
   "source": [
    "print('>> 1st Features:\\n %s\\n'%(features[0].numpy()))\n",
    "print('>> Weights (Input-Layer1):\\n %s\\n'%(model.layers[0].weights[0].numpy()))\n",
    "print('>> Biases   (Input-Layer1):\\n %s\\n'%(model.layers[0].bias.numpy()))\n",
    "print('>> Layer1 MatMul[0,0]: %s\\n'%(np.sum(features[0]*model.layers[0].weights[0][:,0])))\n",
    "print('>> Layer1 MatMul: \\n %s\\n'%(tf.matmul(features, model.layers[0].weights[0]).numpy()[:5]))\n",
    "\n",
    "actLayer0 = tf.nn.relu(tf.matmul(features,  model.layers[0].weights[0]) + tf.ones([batch_size, 1]) * model.layers[0].bias)\n",
    "actLayer1 = tf.nn.relu(tf.matmul(actLayer0, model.layers[1].weights[0]) + tf.ones([batch_size, 1]) * model.layers[1].bias)\n",
    "actLayer2 =            tf.matmul(actLayer1, model.layers[2].weights[0]) + tf.ones([batch_size, 1]) * model.layers[2].bias"
   ]
  },
  {
   "cell_type": "code",
   "execution_count": 16,
   "metadata": {},
   "outputs": [
    {
     "data": {
      "text/plain": [
       "<tf.Tensor: id=288, shape=(5, 3), dtype=float32, numpy=\n",
       "array([[ 0.602, -0.502, -0.823],\n",
       "       [ 0.385, -0.437, -0.638],\n",
       "       [ 0.498, -0.375, -0.643],\n",
       "       [ 0.491, -0.504, -0.649],\n",
       "       [ 0.502, -0.522, -0.756]], dtype=float32)>"
      ]
     },
     "execution_count": 16,
     "metadata": {},
     "output_type": "execute_result"
    }
   ],
   "source": [
    "predictions = model(features)\n",
    "predictions[:5]"
   ]
  },
  {
   "cell_type": "code",
   "execution_count": 17,
   "metadata": {},
   "outputs": [
    {
     "data": {
      "text/plain": [
       "<tf.Tensor: id=292, shape=(5, 3), dtype=float32, numpy=\n",
       "array([[ 0.602, -0.502, -0.823],\n",
       "       [ 0.385, -0.437, -0.638],\n",
       "       [ 0.498, -0.375, -0.643],\n",
       "       [ 0.491, -0.504, -0.649],\n",
       "       [ 0.502, -0.522, -0.756]], dtype=float32)>"
      ]
     },
     "execution_count": 17,
     "metadata": {},
     "output_type": "execute_result"
    }
   ],
   "source": [
    "actLayer2[:5]"
   ]
  },
  {
   "cell_type": "code",
   "execution_count": 18,
   "metadata": {},
   "outputs": [
    {
     "data": {
      "text/plain": [
       "<tf.Tensor: id=306, shape=(5, 10), dtype=float32, numpy=\n",
       "array([[0.   , 0.   , 0.   , 3.653, 0.   , 0.   , 0.   , 0.   , 0.195, 0.   ],\n",
       "       [0.   , 0.   , 0.   , 2.762, 0.   , 0.   , 0.   , 0.   , 0.   , 0.   ],\n",
       "       [0.   , 0.   , 0.   , 2.876, 0.   , 0.   , 0.   , 0.   , 0.205, 0.   ],\n",
       "       [0.115, 0.267, 0.   , 2.775, 0.   , 0.356, 0.   , 0.   , 0.   , 0.   ],\n",
       "       [0.   , 0.271, 0.   , 3.316, 0.   , 0.357, 0.   , 0.   , 0.   , 0.   ]], dtype=float32)>"
      ]
     },
     "execution_count": 18,
     "metadata": {},
     "output_type": "execute_result"
    }
   ],
   "source": [
    "model.layers[1](model.layers[0](features))[:5]"
   ]
  },
  {
   "cell_type": "code",
   "execution_count": 19,
   "metadata": {},
   "outputs": [
    {
     "data": {
      "text/plain": [
       "<tf.Tensor: id=310, shape=(5, 10), dtype=float32, numpy=\n",
       "array([[0.   , 0.   , 0.   , 3.653, 0.   , 0.   , 0.   , 0.   , 0.195, 0.   ],\n",
       "       [0.   , 0.   , 0.   , 2.762, 0.   , 0.   , 0.   , 0.   , 0.   , 0.   ],\n",
       "       [0.   , 0.   , 0.   , 2.876, 0.   , 0.   , 0.   , 0.   , 0.205, 0.   ],\n",
       "       [0.115, 0.267, 0.   , 2.775, 0.   , 0.356, 0.   , 0.   , 0.   , 0.   ],\n",
       "       [0.   , 0.271, 0.   , 3.316, 0.   , 0.357, 0.   , 0.   , 0.   , 0.   ]], dtype=float32)>"
      ]
     },
     "execution_count": 19,
     "metadata": {},
     "output_type": "execute_result"
    }
   ],
   "source": [
    "actLayer1[:5]"
   ]
  },
  {
   "cell_type": "markdown",
   "metadata": {},
   "source": [
    "## Softmax 적용 (로짓(logit)을 각 클래스에 대한 확률로 변환)\n",
    "![](https://wikimedia.org/api/rest_v1/media/math/render/svg/bdc1f8eaa8064d15893f1ba6426f20ff8e7149c5)"
   ]
  },
  {
   "cell_type": "code",
   "execution_count": 20,
   "metadata": {},
   "outputs": [
    {
     "name": "stdout",
     "output_type": "stream",
     "text": [
      "Index: 0, Prob. per Class: [0.636 0.211 0.153]\n",
      "Index: 1, Prob. per Class: [0.556 0.244 0.2  ]\n",
      "Index: 2, Prob. per Class: [0.576 0.24  0.184]\n",
      "Index: 3, Prob. per Class: [0.592 0.219 0.189]\n",
      "Index: 4, Prob. per Class: [0.608 0.219 0.173]\n"
     ]
    }
   ],
   "source": [
    "# Using Numpy\n",
    "for idx, logitRow in enumerate(predictions[:5]):\n",
    "    print('Index: {}, Prob. per Class: {}'.format(idx, np.exp(logitRow)/np.sum(np.exp(logitRow))))"
   ]
  },
  {
   "cell_type": "code",
   "execution_count": 21,
   "metadata": {},
   "outputs": [
    {
     "data": {
      "text/plain": [
       "<tf.Tensor: id=339, shape=(5, 3), dtype=float32, numpy=\n",
       "array([[0.636, 0.211, 0.153],\n",
       "       [0.556, 0.244, 0.2  ],\n",
       "       [0.576, 0.24 , 0.184],\n",
       "       [0.592, 0.219, 0.189],\n",
       "       [0.608, 0.219, 0.173]], dtype=float32)>"
      ]
     },
     "execution_count": 21,
     "metadata": {},
     "output_type": "execute_result"
    }
   ],
   "source": [
    "# Using TensorFlow\n",
    "tf.nn.softmax(predictions[:5])"
   ]
  },
  {
   "cell_type": "code",
   "execution_count": 22,
   "metadata": {},
   "outputs": [
    {
     "name": "stdout",
     "output_type": "stream",
     "text": [
      "  예측: [0 0 0 0 0 0 0 0 0 0 0 0 0 0 0 0 0 0 0 0 0 0 0 0 0 0 0 0 0 0 0 0]\n",
      "레이블: [2 1 2 0 0 0 0 2 1 0 1 1 0 0 2 1 2 2 2 0 2 2 0 2 2 0 1 2 1 1 1 1]\n"
     ]
    }
   ],
   "source": [
    "print(\"  예측: {}\".format(tf.argmax(predictions, axis=1)))\n",
    "print(\"레이블: {}\".format(labels))"
   ]
  },
  {
   "cell_type": "markdown",
   "metadata": {},
   "source": [
    "## 모델 훈련하기"
   ]
  },
  {
   "cell_type": "markdown",
   "metadata": {},
   "source": [
    "### 손실함수 (Loss Function)"
   ]
  },
  {
   "cell_type": "markdown",
   "metadata": {},
   "source": [
    "#### 평균 제곱 오차 (Mean Squared Error, MSE) : Regression (회귀) 문제에 주로 사용\n",
    "![](https://wikimedia.org/api/rest_v1/media/math/render/svg/e258221518869aa1c6561bb75b99476c4734108e)"
   ]
  },
  {
   "cell_type": "markdown",
   "metadata": {},
   "source": [
    "#### 교차 엔트로피 오차 (Cross Entropy Error, CEE) : Classification (분류) 문제에 주로 사용"
   ]
  },
  {
   "cell_type": "markdown",
   "metadata": {},
   "source": [
    "![](https://wikimedia.org/api/rest_v1/media/math/render/svg/c6b895514e10a3ce88773852cba1cb1e248ed763)"
   ]
  },
  {
   "cell_type": "code",
   "execution_count": 23,
   "metadata": {},
   "outputs": [
    {
     "name": "stdout",
     "output_type": "stream",
     "text": [
      "1.3402423821389675\n"
     ]
    }
   ],
   "source": [
    "# Cross Entropy Error Using Numpy\n",
    "cee = 0\n",
    "for idx, prob in enumerate(tf.nn.softmax(model(features))):\n",
    "    y  = labels[idx]\n",
    "    y_ = prob[y]\n",
    "    cee = cee - np.log(y_)/batch_size\n",
    "print(cee)"
   ]
  },
  {
   "cell_type": "code",
   "execution_count": 24,
   "metadata": {},
   "outputs": [
    {
     "name": "stdout",
     "output_type": "stream",
     "text": [
      "1.3402424\n"
     ]
    }
   ],
   "source": [
    "# tf.keras.losses.SparseCategoricalCrossentropy: Computes the crossentropy loss between the labels and predictions.\n",
    "lossCEE = tf.keras.losses.SparseCategoricalCrossentropy(from_logits=True)\n",
    "print(lossCEE(y_true=labels, y_pred=model(features)).numpy())\n",
    "def loss(model, x, y):\n",
    "  y_ = model(x)\n",
    "  return lossCEE(y_true=y, y_pred=y_)"
   ]
  },
  {
   "cell_type": "markdown",
   "metadata": {},
   "source": [
    "## 옵티마이저 생성"
   ]
  },
  {
   "cell_type": "markdown",
   "metadata": {},
   "source": [
    "![](https://cs231n.github.io/assets/nn3/opt1.gif)"
   ]
  },
  {
   "cell_type": "code",
   "execution_count": 25,
   "metadata": {},
   "outputs": [],
   "source": [
    "# tf.GradientTape: Record operations for automatic differentiation.\n",
    "def grad(model, inputs, targets):\n",
    "  with tf.GradientTape() as tape:\n",
    "    loss_value = loss(model, inputs, targets)\n",
    "  return loss_value, tape.gradient(loss_value, model.trainable_variables)\n",
    "\n",
    "# tf.keras.optimizers: Built-in optimizer classes.\n",
    "optimizer = tf.keras.optimizers.Adam(learning_rate=0.01)\n",
    "if optimizer.iterations.numpy() == 0:\n",
    "    mv1 = 0\n",
    "    mv2 = 0"
   ]
  },
  {
   "cell_type": "code",
   "execution_count": 26,
   "metadata": {},
   "outputs": [
    {
     "data": {
      "text/plain": [
       "[0]"
      ]
     },
     "execution_count": 26,
     "metadata": {},
     "output_type": "execute_result"
    }
   ],
   "source": [
    "optimizer.get_weights()"
   ]
  },
  {
   "cell_type": "code",
   "execution_count": 27,
   "metadata": {},
   "outputs": [
    {
     "name": "stdout",
     "output_type": "stream",
     "text": [
      "단계: 0, 초기 손실: 1.3402423858642578\n",
      "단계: 1,     손실: 1.2008545398712158\n",
      "\n",
      "[[-0.344  0.005  0.414 -0.522  0.615 -0.408 -0.042  0.437 -0.548  0.56 ]\n",
      " [ 0.164  0.406  0.068 -0.385  0.543  0.491 -0.011  0.155 -0.531  0.329]\n",
      " [ 0.032  0.124 -0.242  0.083 -0.269 -0.19  -0.074 -0.081 -0.473  0.088]\n",
      " [-0.501  0.527  0.314  0.464 -0.422  0.237 -0.636  0.266  0.519 -0.121]] \n",
      "\n",
      "\n",
      "[[ 0.     0.036  0.025  0.    -0.043  0.     0.    -0.012  0.     0.07 ]\n",
      " [ 0.     0.019  0.014  0.    -0.024  0.     0.    -0.005  0.     0.03 ]\n",
      " [ 0.     0.025  0.012  0.    -0.027  0.     0.    -0.013  0.     0.064]\n",
      " [ 0.     0.008  0.004  0.    -0.009  0.     0.    -0.005  0.     0.023]]\n"
     ]
    }
   ],
   "source": [
    "loss_value, grads = grad(model, features, labels)\n",
    "\n",
    "print(\"단계: {}, 초기 손실: {}\".format(optimizer.iterations.numpy(), loss_value.numpy()))\n",
    "if optimizer.iterations == 0:\n",
    "    weights_pre  = model.layers[0].weights[0].numpy()\n",
    "else:\n",
    "    weights_pre  = optimizer.weights[1].numpy()\n",
    "\n",
    "optimizer.apply_gradients(zip(grads, model.trainable_variables))\n",
    "print(\"단계: {},     손실: {}\\n\".format(optimizer.iterations.numpy(), loss(model, features, labels).numpy()))\n",
    "weights_post = optimizer.weights[1].numpy()\n",
    "\n",
    "print(weights_pre,  '\\n\\n')\n",
    "print(weights_post)"
   ]
  },
  {
   "cell_type": "markdown",
   "metadata": {},
   "source": [
    "### Adam"
   ]
  },
  {
   "cell_type": "markdown",
   "metadata": {},
   "source": [
    "$$m_0 := 0 \\text{(Initialize initial 1st moment vector)}$$\n",
    "$$v_0 := 0 \\text{(Initialize initial 2nd moment vector)}$$\n",
    "$$t := 0 \\text{(Initialize timestep)}$$\n",
    "$$t := t + 1$$\n",
    "$$lr_t := \\text{learning\\_rate} * \\sqrt{1 - beta_2^t} / (1 - beta_1^t)$$\n",
    "$$m_t := beta_1 * m_{t-1} + (1 - beta_1) * g$$\n",
    "$$v_t := beta_2 * v_{t-1} + (1 - beta_2) * g * g$$\n",
    "$$variable := variable - lr_t * m_t / (\\sqrt{v_t} + \\epsilon)$$"
   ]
  },
  {
   "cell_type": "code",
   "execution_count": 28,
   "metadata": {},
   "outputs": [
    {
     "name": "stdout",
     "output_type": "stream",
     "text": [
      "[[-0.344  0.005  0.414 -0.522  0.615 -0.408 -0.042  0.437 -0.548  0.56 ]\n",
      " [ 0.164  0.406  0.068 -0.385  0.543  0.491 -0.011  0.155 -0.531  0.329]\n",
      " [ 0.032  0.124 -0.242  0.083 -0.269 -0.19  -0.074 -0.081 -0.473  0.088]\n",
      " [-0.501  0.527  0.314  0.464 -0.422  0.237 -0.636  0.266  0.519 -0.121]]\n",
      "tf.Tensor(\n",
      "[[-0.344 -0.005  0.404 -0.522  0.625 -0.408 -0.042  0.447 -0.548  0.55 ]\n",
      " [ 0.164  0.396  0.058 -0.385  0.553  0.491 -0.011  0.165 -0.531  0.319]\n",
      " [ 0.032  0.114 -0.252  0.083 -0.259 -0.19  -0.074 -0.071 -0.473  0.078]\n",
      " [-0.501  0.517  0.304  0.464 -0.412  0.237 -0.636  0.276  0.519 -0.131]], shape=(4, 10), dtype=float32)\n",
      "[[ 0.     0.036  0.025  0.    -0.043  0.     0.    -0.012  0.     0.07 ]\n",
      " [ 0.     0.019  0.014  0.    -0.024  0.     0.    -0.005  0.     0.03 ]\n",
      " [ 0.     0.025  0.012  0.    -0.027  0.     0.    -0.013  0.     0.064]\n",
      " [ 0.     0.008  0.004  0.    -0.009  0.     0.    -0.005  0.     0.023]]\n"
     ]
    }
   ],
   "source": [
    "if optimizer.iterations.numpy() != 0:\n",
    "    t   = optimizer.iterations.numpy()\n",
    "    lr  = optimizer.learning_rate * tf.sqrt(1-(optimizer.beta_2 ** t)) / (1-(optimizer.beta_1**t))\n",
    "    mv1 = optimizer.beta_1.numpy() * mv1 + (1-optimizer.beta_1.numpy()) * grads[0].numpy()\n",
    "    mv2 = optimizer.beta_2.numpy() * mv2 + (1-optimizer.beta_2.numpy()) * grads[0].numpy() ** 2\n",
    "    \n",
    "weights_cal = weights_pre - lr * mv1 / (np.sqrt(mv2) + optimizer.epsilon)\n",
    "print(weights_pre)\n",
    "print(weights_cal)\n",
    "print(weights_post)"
   ]
  },
  {
   "cell_type": "code",
   "execution_count": 29,
   "metadata": {},
   "outputs": [
    {
     "data": {
      "text/plain": [
       "<tf.Variable 'Adam/dense/kernel/m:0' shape=(4, 10) dtype=float32, numpy=\n",
       "array([[ 0.   ,  0.036,  0.025,  0.   , -0.043,  0.   ,  0.   , -0.012,  0.   ,  0.07 ],\n",
       "       [ 0.   ,  0.019,  0.014,  0.   , -0.024,  0.   ,  0.   , -0.005,  0.   ,  0.03 ],\n",
       "       [ 0.   ,  0.025,  0.012,  0.   , -0.027,  0.   ,  0.   , -0.013,  0.   ,  0.064],\n",
       "       [ 0.   ,  0.008,  0.004,  0.   , -0.009,  0.   ,  0.   , -0.005,  0.   ,  0.023]], dtype=float32)>"
      ]
     },
     "execution_count": 29,
     "metadata": {},
     "output_type": "execute_result"
    }
   ],
   "source": [
    "optimizer.variables()[1]"
   ]
  },
  {
   "cell_type": "code",
   "execution_count": 30,
   "metadata": {},
   "outputs": [
    {
     "data": {
      "text/plain": [
       "array([[ 0.   ,  0.036,  0.025,  0.   , -0.043,  0.   ,  0.   , -0.012,  0.   ,  0.07 ],\n",
       "       [ 0.   ,  0.019,  0.014,  0.   , -0.024,  0.   ,  0.   , -0.005,  0.   ,  0.03 ],\n",
       "       [ 0.   ,  0.025,  0.012,  0.   , -0.027,  0.   ,  0.   , -0.013,  0.   ,  0.064],\n",
       "       [ 0.   ,  0.008,  0.004,  0.   , -0.009,  0.   ,  0.   , -0.005,  0.   ,  0.023]], dtype=float32)"
      ]
     },
     "execution_count": 30,
     "metadata": {},
     "output_type": "execute_result"
    }
   ],
   "source": [
    "mv1"
   ]
  },
  {
   "cell_type": "code",
   "execution_count": 31,
   "metadata": {},
   "outputs": [
    {
     "name": "stdout",
     "output_type": "stream",
     "text": [
      "에포크 000: 손실: 1.063, 정확도: 35.000%\n",
      "에포크 050: 손실: 0.077, 정확도: 98.333%\n",
      "에포크 100: 손실: 0.057, 정확도: 98.333%\n",
      "에포크 150: 손실: 0.051, 정확도: 99.167%\n",
      "에포크 200: 손실: 0.047, 정확도: 99.167%\n"
     ]
    }
   ],
   "source": [
    "## 노트: 이 셀을 다시 실행하면 동일한 모델의 변수가 사용됩니다.\n",
    "\n",
    "# 도식화를 위해 결과를 저장합니다.\n",
    "train_loss_results = []\n",
    "train_accuracy_results = []\n",
    "\n",
    "num_epochs = 201\n",
    "\n",
    "for epoch in range(num_epochs):\n",
    "    epoch_loss_avg = tf.keras.metrics.Mean()\n",
    "    epoch_accuracy = tf.keras.metrics.SparseCategoricalAccuracy()\n",
    "\n",
    "    # 훈련 루프 - 32개의 배치를 사용합니다.\n",
    "    for x, y in train_dataset:\n",
    "        # 모델을 최적화합니다.\n",
    "        loss_value, grads = grad(model, x, y)\n",
    "        optimizer.apply_gradients(zip(grads, model.trainable_variables))\n",
    "\n",
    "        # 진행 상황을 추적합니다.\n",
    "        epoch_loss_avg(loss_value)  # 현재 배치 손실을 추가합니다.\n",
    "        # 예측된 레이블과 실제 레이블 비교합니다.\n",
    "        epoch_accuracy(y, model(x))\n",
    "\n",
    "    # epoch 종료\n",
    "    train_loss_results.append(epoch_loss_avg.result())\n",
    "    train_accuracy_results.append(epoch_accuracy.result())\n",
    "\n",
    "    if epoch % 50 == 0:\n",
    "        print(\"에포크 {:03d}: 손실: {:.3f}, 정확도: {:.3%}\".format(epoch, epoch_loss_avg.result(), epoch_accuracy.result()))"
   ]
  },
  {
   "cell_type": "code",
   "execution_count": 34,
   "metadata": {},
   "outputs": [
    {
     "data": {
      "image/png": "[encoded data removed]",
      "text/plain": [
       "<Figure size 864x576 with 2 Axes>"
      ]
     },
     "metadata": {
      "needs_background": "light"
     },
     "output_type": "display_data"
    }
   ],
   "source": [
    "fig, axes = plt.subplots(2, sharex=True, figsize=(12, 8))\n",
    "fig.suptitle('Training Procedure')\n",
    "\n",
    "axes[0].set_ylabel(\"Loss\", fontsize=14)\n",
    "axes[0].plot(train_loss_results)\n",
    "\n",
    "axes[1].set_ylabel(\"Accuracy\", fontsize=14)\n",
    "axes[1].set_xlabel(\"Epoch\", fontsize=14)\n",
    "axes[1].plot(train_accuracy_results)\n",
    "plt.show()"
   ]
  },
  {
   "cell_type": "code",
   "execution_count": 38,
   "metadata": {},
   "outputs": [],
   "source": [
    "test_dataset = tf.data.experimental.make_csv_dataset(\n",
    "    test__dataset_fp,\n",
    "    batch_size,\n",
    "    column_names=column_names,\n",
    "    label_name='species',\n",
    "    num_epochs=1,\n",
    "    shuffle=False)\n",
    "\n",
    "test_dataset = test_dataset.map(pack_features_vector)"
   ]
  },
  {
   "cell_type": "code",
   "execution_count": 39,
   "metadata": {},
   "outputs": [
    {
     "name": "stdout",
     "output_type": "stream",
     "text": [
      "테스트 세트 정확도: 96.667%\n"
     ]
    }
   ],
   "source": [
    "test_accuracy = tf.keras.metrics.Accuracy()\n",
    "\n",
    "for (x, y) in test_dataset:\n",
    "  logits = model(x)\n",
    "  prediction = tf.argmax(logits, axis=1, output_type=tf.int32)\n",
    "  test_accuracy(prediction, y)\n",
    "\n",
    "print(\"테스트 세트 정확도: {:.3%}\".format(test_accuracy.result()))"
   ]
  },
  {
   "cell_type": "code",
   "execution_count": 40,
   "metadata": {},
   "outputs": [
    {
     "data": {
      "text/plain": [
       "<tf.Tensor: id=113666, shape=(30, 2), dtype=int32, numpy=\n",
       "array([[1, 1],\n",
       "       [2, 2],\n",
       "       [0, 0],\n",
       "       [1, 1],\n",
       "       [1, 1],\n",
       "       [1, 1],\n",
       "       [0, 0],\n",
       "       [2, 1],\n",
       "       [1, 1],\n",
       "       [2, 2],\n",
       "       [2, 2],\n",
       "       [0, 0],\n",
       "       [2, 2],\n",
       "       [1, 1],\n",
       "       [1, 1],\n",
       "       [0, 0],\n",
       "       [1, 1],\n",
       "       [0, 0],\n",
       "       [0, 0],\n",
       "       [2, 2],\n",
       "       [0, 0],\n",
       "       [1, 1],\n",
       "       [2, 2],\n",
       "       [1, 1],\n",
       "       [1, 1],\n",
       "       [1, 1],\n",
       "       [0, 0],\n",
       "       [1, 1],\n",
       "       [2, 2],\n",
       "       [1, 1]], dtype=int32)>"
      ]
     },
     "execution_count": 40,
     "metadata": {},
     "output_type": "execute_result"
    }
   ],
   "source": [
    "tf.stack([y,prediction],axis=1)"
   ]
  },
  {
   "cell_type": "code",
   "execution_count": null,
   "metadata": {},
   "outputs": [],
   "source": []
  }
 ],
 "metadata": {
  "kernelspec": {
   "display_name": "Python 3",
   "language": "python",
   "name": "python3"
  },
  "language_info": {
   "codemirror_mode": {
    "name": "ipython",
    "version": 3
   },
   "file_extension": ".py",
   "mimetype": "text/x-python",
   "name": "python",
   "nbconvert_exporter": "python",
   "pygments_lexer": "ipython3",
   "version": "3.6.8"
  }
 },
 "nbformat": 4,
 "nbformat_minor": 4
}
